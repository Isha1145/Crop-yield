{
  "cells": [
    {
      "cell_type": "code",
      "execution_count": 1,
      "metadata": {
        "colab": {
          "base_uri": "https://localhost:8080/",
          "height": 1000
        },
        "collapsed": true,
        "id": "zU_BRX9DldU-",
        "outputId": "612609d3-d419-4b61-bdfe-16403f87d9da"
      },
      "outputs": [
        {
          "output_type": "stream",
          "name": "stdout",
          "text": [
            "Requirement already satisfied: pip in /usr/local/lib/python3.11/dist-packages (24.1.2)\n",
            "Collecting pip\n",
            "  Downloading pip-25.1.1-py3-none-any.whl.metadata (3.6 kB)\n",
            "Requirement already satisfied: setuptools in /usr/local/lib/python3.11/dist-packages (75.2.0)\n",
            "Collecting setuptools\n",
            "  Downloading setuptools-80.9.0-py3-none-any.whl.metadata (6.6 kB)\n",
            "Requirement already satisfied: wheel in /usr/local/lib/python3.11/dist-packages (0.45.1)\n",
            "Downloading pip-25.1.1-py3-none-any.whl (1.8 MB)\n",
            "\u001b[2K   \u001b[90m━━━━━━━━━━━━━━━━━━━━━━━━━━━━━━━━━━━━━━━━\u001b[0m \u001b[32m1.8/1.8 MB\u001b[0m \u001b[31m21.8 MB/s\u001b[0m eta \u001b[36m0:00:00\u001b[0m\n",
            "\u001b[?25hDownloading setuptools-80.9.0-py3-none-any.whl (1.2 MB)\n",
            "\u001b[2K   \u001b[90m━━━━━━━━━━━━━━━━━━━━━━━━━━━━━━━━━━━━━━━━\u001b[0m \u001b[32m1.2/1.2 MB\u001b[0m \u001b[31m47.2 MB/s\u001b[0m eta \u001b[36m0:00:00\u001b[0m\n",
            "\u001b[?25hInstalling collected packages: setuptools, pip\n",
            "  Attempting uninstall: setuptools\n",
            "    Found existing installation: setuptools 75.2.0\n",
            "    Uninstalling setuptools-75.2.0:\n",
            "      Successfully uninstalled setuptools-75.2.0\n",
            "  Attempting uninstall: pip\n",
            "    Found existing installation: pip 24.1.2\n",
            "    Uninstalling pip-24.1.2:\n",
            "      Successfully uninstalled pip-24.1.2\n",
            "\u001b[31mERROR: pip's dependency resolver does not currently take into account all the packages that are installed. This behaviour is the source of the following dependency conflicts.\n",
            "ipython 7.34.0 requires jedi>=0.16, which is not installed.\u001b[0m\u001b[31m\n",
            "\u001b[0mSuccessfully installed pip-25.1.1 setuptools-80.9.0\n"
          ]
        },
        {
          "output_type": "display_data",
          "data": {
            "application/vnd.colab-display-data+json": {
              "pip_warning": {
                "packages": [
                  "_distutils_hack",
                  "pkg_resources"
                ]
              },
              "id": "ccb3fe9210404d56a3f3e2f384992258"
            }
          },
          "metadata": {}
        },
        {
          "output_type": "stream",
          "name": "stdout",
          "text": [
            "Get:1 https://cloud.r-project.org/bin/linux/ubuntu jammy-cran40/ InRelease [3,632 B]\n",
            "Get:2 https://r2u.stat.illinois.edu/ubuntu jammy InRelease [6,555 B]\n",
            "Hit:3 http://archive.ubuntu.com/ubuntu jammy InRelease\n",
            "Get:4 http://security.ubuntu.com/ubuntu jammy-security InRelease [129 kB]\n",
            "Get:5 http://archive.ubuntu.com/ubuntu jammy-updates InRelease [128 kB]\n",
            "Get:6 https://developer.download.nvidia.com/compute/cuda/repos/ubuntu2204/x86_64  InRelease [1,581 B]\n",
            "Get:7 https://r2u.stat.illinois.edu/ubuntu jammy/main all Packages [9,063 kB]\n",
            "Hit:8 https://ppa.launchpadcontent.net/deadsnakes/ppa/ubuntu jammy InRelease\n",
            "Get:9 https://developer.download.nvidia.com/compute/cuda/repos/ubuntu2204/x86_64  Packages [1,799 kB]\n",
            "Hit:10 https://ppa.launchpadcontent.net/graphics-drivers/ppa/ubuntu jammy InRelease\n",
            "Get:11 http://archive.ubuntu.com/ubuntu jammy-backports InRelease [127 kB]\n",
            "Hit:12 https://ppa.launchpadcontent.net/ubuntugis/ppa/ubuntu jammy InRelease\n",
            "Get:13 https://r2u.stat.illinois.edu/ubuntu jammy/main amd64 Packages [2,751 kB]\n",
            "Get:14 http://security.ubuntu.com/ubuntu jammy-security/main amd64 Packages [3,036 kB]\n",
            "Get:15 http://archive.ubuntu.com/ubuntu jammy-updates/restricted amd64 Packages [4,733 kB]\n",
            "Get:16 http://security.ubuntu.com/ubuntu jammy-security/restricted amd64 Packages [4,572 kB]\n",
            "Get:17 http://archive.ubuntu.com/ubuntu jammy-updates/universe amd64 Packages [1,562 kB]\n",
            "Get:18 http://archive.ubuntu.com/ubuntu jammy-updates/main amd64 Packages [3,349 kB]\n",
            "Fetched 31.3 MB in 3s (9,382 kB/s)\n",
            "Reading package lists... Done\n",
            "W: Skipping acquire of configured file 'main/source/Sources' as repository 'https://r2u.stat.illinois.edu/ubuntu jammy InRelease' does not seem to provide it (sources.list entry misspelt?)\n",
            "Reading package lists... Done\n",
            "Building dependency tree... Done\n",
            "Reading state information... Done\n",
            "build-essential is already the newest version (12.9ubuntu3).\n",
            "python3-dev is already the newest version (3.10.6-1~22.04.1).\n",
            "python3-dev set to manually installed.\n",
            "0 upgraded, 0 newly installed, 0 to remove and 36 not upgraded.\n",
            "Collecting protobuf==3.20.3\n",
            "  Downloading protobuf-3.20.3-py2.py3-none-any.whl.metadata (720 bytes)\n",
            "Downloading protobuf-3.20.3-py2.py3-none-any.whl (162 kB)\n",
            "Installing collected packages: protobuf\n",
            "  Attempting uninstall: protobuf\n",
            "    Found existing installation: protobuf 5.29.5\n",
            "    Uninstalling protobuf-5.29.5:\n",
            "      Successfully uninstalled protobuf-5.29.5\n",
            "\u001b[31mERROR: pip's dependency resolver does not currently take into account all the packages that are installed. This behaviour is the source of the following dependency conflicts.\n",
            "tensorflow-metadata 1.17.1 requires protobuf<6.0.0,>=4.25.2; python_version >= \"3.11\", but you have protobuf 3.20.3 which is incompatible.\n",
            "ydf 0.12.0 requires protobuf<6.0.0,>=5.29.1, but you have protobuf 3.20.3 which is incompatible.\n",
            "grpcio-status 1.71.0 requires protobuf<6.0dev,>=5.26.1, but you have protobuf 3.20.3 which is incompatible.\u001b[0m\u001b[31m\n",
            "\u001b[0mSuccessfully installed protobuf-3.20.3\n"
          ]
        },
        {
          "output_type": "display_data",
          "data": {
            "application/vnd.colab-display-data+json": {
              "pip_warning": {
                "packages": [
                  "google"
                ]
              },
              "id": "4e668ab600d742a6bd99c6264ff0b2fc"
            }
          },
          "metadata": {}
        },
        {
          "output_type": "stream",
          "name": "stdout",
          "text": [
            "Files removed: 20 (3.8 MB)\n",
            "Collecting mlagents\n",
            "  Downloading mlagents-0.28.0-py3-none-any.whl.metadata (2.5 kB)\n",
            "Requirement already satisfied: grpcio>=1.11.0 in /usr/local/lib/python3.11/dist-packages (from mlagents) (1.73.0)\n",
            "Requirement already satisfied: h5py>=2.9.0 in /usr/local/lib/python3.11/dist-packages (from mlagents) (3.14.0)\n",
            "Collecting mlagents-envs==0.28.0 (from mlagents)\n",
            "  Downloading mlagents_envs-0.28.0-py3-none-any.whl.metadata (816 bytes)\n",
            "Collecting numpy<2.0,>=1.13.3 (from mlagents)\n",
            "  Downloading numpy-1.26.4-cp311-cp311-manylinux_2_17_x86_64.manylinux2014_x86_64.whl.metadata (61 kB)\n",
            "Requirement already satisfied: Pillow>=4.2.1 in /usr/local/lib/python3.11/dist-packages (from mlagents) (11.2.1)\n",
            "Requirement already satisfied: protobuf>=3.6 in /usr/local/lib/python3.11/dist-packages (from mlagents) (3.20.3)\n",
            "Requirement already satisfied: pyyaml>=3.1.0 in /usr/local/lib/python3.11/dist-packages (from mlagents) (6.0.2)\n",
            "Requirement already satisfied: tensorboard>=1.15 in /usr/local/lib/python3.11/dist-packages (from mlagents) (2.18.0)\n",
            "Requirement already satisfied: attrs>=19.3.0 in /usr/local/lib/python3.11/dist-packages (from mlagents) (25.3.0)\n",
            "INFO: pip is looking at multiple versions of mlagents to determine which version is compatible with other requirements. This could take a while.\n",
            "Collecting mlagents\n",
            "  Downloading mlagents-0.27.0-py3-none-any.whl.metadata (2.5 kB)\n",
            "Collecting mlagents-envs==0.27.0 (from mlagents)\n",
            "  Downloading mlagents_envs-0.27.0-py3-none-any.whl.metadata (816 bytes)\n",
            "Collecting mlagents\n",
            "  Downloading mlagents-0.26.0-py3-none-any.whl.metadata (2.5 kB)\n",
            "Collecting mlagents-envs==0.26.0 (from mlagents)\n",
            "  Downloading mlagents_envs-0.26.0-py3-none-any.whl.metadata (816 bytes)\n",
            "Collecting mlagents\n",
            "  Downloading mlagents-0.25.1-py3-none-any.whl.metadata (2.5 kB)\n",
            "Collecting mlagents-envs==0.25.1 (from mlagents)\n",
            "  Downloading mlagents_envs-0.25.1-py3-none-any.whl.metadata (816 bytes)\n",
            "Collecting mlagents\n",
            "  Downloading mlagents-0.25.0-py3-none-any.whl.metadata (2.5 kB)\n",
            "Collecting mlagents-envs==0.25.0 (from mlagents)\n",
            "  Downloading mlagents_envs-0.25.0-py3-none-any.whl.metadata (816 bytes)\n",
            "Collecting mlagents\n",
            "  Downloading mlagents-0.24.1-py3-none-any.whl.metadata (2.4 kB)\n",
            "Collecting mlagents-envs==0.24.1 (from mlagents)\n",
            "  Downloading mlagents_envs-0.24.1-py3-none-any.whl.metadata (816 bytes)\n",
            "Collecting mlagents\n",
            "  Downloading mlagents-0.24.0-py3-none-any.whl.metadata (2.3 kB)\n",
            "Collecting mlagents-envs==0.24.0 (from mlagents)\n",
            "  Downloading mlagents_envs-0.24.0-py3-none-any.whl.metadata (816 bytes)\n",
            "Collecting cattrs<1.1.0,>=1.0.0 (from mlagents)\n",
            "  Downloading cattrs-1.0.0-py2.py3-none-any.whl.metadata (11 kB)\n",
            "Collecting mlagents\n",
            "  Downloading mlagents-0.23.0-py3-none-any.whl.metadata (2.4 kB)\n",
            "Collecting mlagents-envs==0.23.0 (from mlagents)\n",
            "  Downloading mlagents_envs-0.23.0-py3-none-any.whl.metadata (824 bytes)\n",
            "INFO: pip is still looking at multiple versions of mlagents to determine which version is compatible with other requirements. This could take a while.\n",
            "Collecting mlagents\n",
            "  Downloading mlagents-0.22.0-py3-none-any.whl.metadata (2.4 kB)\n",
            "Collecting mlagents-envs==0.22.0 (from mlagents)\n",
            "  Downloading mlagents_envs-0.22.0-py3-none-any.whl.metadata (774 bytes)\n",
            "Collecting mlagents\n",
            "  Downloading mlagents-0.21.1-py3-none-any.whl.metadata (2.3 kB)\n",
            "Collecting mlagents-envs==0.21.1 (from mlagents)\n",
            "  Downloading mlagents_envs-0.21.1-py3-none-any.whl.metadata (774 bytes)\n",
            "Requirement already satisfied: tensorflow<3.0,>=1.14 in /usr/local/lib/python3.11/dist-packages (from mlagents) (2.18.0)\n",
            "Requirement already satisfied: six>=1.12.0 in /usr/local/lib/python3.11/dist-packages (from mlagents) (1.17.0)\n",
            "Requirement already satisfied: cloudpickle in /usr/local/lib/python3.11/dist-packages (from mlagents-envs==0.21.1->mlagents) (3.1.1)\n",
            "Collecting numpy<2.0,>=1.13.3 (from mlagents)\n",
            "  Downloading numpy-1.18.5.zip (5.4 MB)\n",
            "\u001b[2K     \u001b[90m━━━━━━━━━━━━━━━━━━━━━━━━━━━━━━━━━━━━━━━━\u001b[0m \u001b[32m5.4/5.4 MB\u001b[0m \u001b[31m69.0 MB/s\u001b[0m eta \u001b[36m0:00:00\u001b[0m\n",
            "\u001b[?25h  Installing build dependencies ... \u001b[?25l\u001b[?25hdone\n",
            "  Getting requirements to build wheel ... \u001b[?25l\u001b[?25hdone\n",
            "  \u001b[1;31merror\u001b[0m: \u001b[1msubprocess-exited-with-error\u001b[0m\n",
            "  \n",
            "  \u001b[31m×\u001b[0m \u001b[32mPreparing metadata \u001b[0m\u001b[1;32m(\u001b[0m\u001b[32mpyproject.toml\u001b[0m\u001b[1;32m)\u001b[0m did not run successfully.\n",
            "  \u001b[31m│\u001b[0m exit code: \u001b[1;36m1\u001b[0m\n",
            "  \u001b[31m╰─>\u001b[0m See above for output.\n",
            "  \n",
            "  \u001b[1;35mnote\u001b[0m: This error originates from a subprocess, and is likely not a problem with pip.\n",
            "  Preparing metadata (pyproject.toml) ... \u001b[?25l\u001b[?25herror\n",
            "\u001b[1;31merror\u001b[0m: \u001b[1mmetadata-generation-failed\u001b[0m\n",
            "\n",
            "\u001b[31m×\u001b[0m Encountered error while generating package metadata.\n",
            "\u001b[31m╰─>\u001b[0m See above for output.\n",
            "\n",
            "\u001b[1;35mnote\u001b[0m: This is an issue with the package mentioned above, not pip.\n",
            "\u001b[1;36mhint\u001b[0m: See above for details.\n",
            "Using pip 25.1.1 from /usr/local/lib/python3.11/dist-packages/pip (python 3.11)\n",
            "Non-user install because site-packages writeable\n",
            "Created temporary directory: /tmp/pip-build-tracker-1x7_ktbe\n",
            "Initialized build tracking at /tmp/pip-build-tracker-1x7_ktbe\n",
            "Created build tracker: /tmp/pip-build-tracker-1x7_ktbe\n",
            "Entered build tracker: /tmp/pip-build-tracker-1x7_ktbe\n",
            "Created temporary directory: /tmp/pip-install-nv8wvjyi\n",
            "Created temporary directory: /tmp/pip-ephem-wheel-cache-895f7jyd\n",
            "1 location(s) to search for versions of mlagents-envs:\n",
            "* https://pypi.org/simple/mlagents-envs/\n",
            "Fetching project page and analyzing links: https://pypi.org/simple/mlagents-envs/\n",
            "Getting page https://pypi.org/simple/mlagents-envs/\n",
            "Found index url https://pypi.org/simple/\n",
            "Looking up \"https://pypi.org/simple/mlagents-envs/\" in the cache\n",
            "Request header has \"max_age\" as 0, cache bypassed\n",
            "Starting new HTTPS connection (1): pypi.org:443\n",
            "https://pypi.org:443 \"GET /simple/mlagents-envs/ HTTP/1.1\" 304 0\n",
            "Fetched page https://pypi.org/simple/mlagents-envs/ as application/vnd.pypi.simple.v1+json\n",
            "  Link requires a different Python (3.11.13 not in: '>=3.5,<=3.7'): https://files.pythonhosted.org/packages/d6/05/96adbcaca905803e084cc6514eef65710b1a34df738152950db0ee8b453c/mlagents_envs-0.6.0-py3-none-any.whl (from https://pypi.org/simple/mlagents-envs/) (requires-python:>=3.5,<=3.7)\n",
            "  Skipping link: 0.6.0 Requires-Python >=3.5,<=3.7: https://files.pythonhosted.org/packages/d6/05/96adbcaca905803e084cc6514eef65710b1a34df738152950db0ee8b453c/mlagents_envs-0.6.0-py3-none-any.whl (from https://pypi.org/simple/mlagents-envs/) (requires-python:>=3.5,<=3.7)\n",
            "  Link requires a different Python (3.11.13 not in: '>=3.5,<=3.7'): https://files.pythonhosted.org/packages/c0/04/81e43f18e765a5d365a811877f508ed1ebf80f67bc7fd285ec00103fe7ae/mlagents_envs-0.6.0.tar.gz (from https://pypi.org/simple/mlagents-envs/) (requires-python:>=3.5,<=3.7)\n",
            "  Skipping link: 0.6.0 Requires-Python >=3.5,<=3.7: https://files.pythonhosted.org/packages/c0/04/81e43f18e765a5d365a811877f508ed1ebf80f67bc7fd285ec00103fe7ae/mlagents_envs-0.6.0.tar.gz (from https://pypi.org/simple/mlagents-envs/) (requires-python:>=3.5,<=3.7)\n",
            "  Link requires a different Python (3.11.13 not in: '>=3.5,<=3.7'): https://files.pythonhosted.org/packages/a7/69/c5729cb996829eb3c300a45eee06c81f9680fbd8d121227044a3a61deabf/mlagents_envs-0.6.1-py3-none-any.whl (from https://pypi.org/simple/mlagents-envs/) (requires-python:>=3.5,<=3.7)\n",
            "  Skipping link: 0.6.1 Requires-Python >=3.5,<=3.7: https://files.pythonhosted.org/packages/a7/69/c5729cb996829eb3c300a45eee06c81f9680fbd8d121227044a3a61deabf/mlagents_envs-0.6.1-py3-none-any.whl (from https://pypi.org/simple/mlagents-envs/) (requires-python:>=3.5,<=3.7)\n",
            "  Link requires a different Python (3.11.13 not in: '>=3.5,<=3.7'): https://files.pythonhosted.org/packages/bf/d9/401db302a16c38c8484d6bfb68fada31c3e700b9111746d35d158d36e68d/mlagents_envs-0.6.1.tar.gz (from https://pypi.org/simple/mlagents-envs/) (requires-python:>=3.5,<=3.7)\n",
            "  Skipping link: 0.6.1 Requires-Python >=3.5,<=3.7: https://files.pythonhosted.org/packages/bf/d9/401db302a16c38c8484d6bfb68fada31c3e700b9111746d35d158d36e68d/mlagents_envs-0.6.1.tar.gz (from https://pypi.org/simple/mlagents-envs/) (requires-python:>=3.5,<=3.7)\n",
            "  Link requires a different Python (3.11.13 not in: '>=3.5,<=3.7'): https://files.pythonhosted.org/packages/e5/e1/b6d26f1c799c5c8d4c3968008faa12a46ab9f404831c50441ff57739b4a2/mlagents_envs-0.6.2-py3-none-any.whl (from https://pypi.org/simple/mlagents-envs/) (requires-python:>=3.5,<=3.7)\n",
            "  Skipping link: 0.6.2 Requires-Python >=3.5,<=3.7: https://files.pythonhosted.org/packages/e5/e1/b6d26f1c799c5c8d4c3968008faa12a46ab9f404831c50441ff57739b4a2/mlagents_envs-0.6.2-py3-none-any.whl (from https://pypi.org/simple/mlagents-envs/) (requires-python:>=3.5,<=3.7)\n",
            "  Link requires a different Python (3.11.13 not in: '>=3.5,<=3.7'): https://files.pythonhosted.org/packages/13/78/5a86a46699cd467363d1c681dba11a084f11a7a58cc9563cdfd4848cb7cb/mlagents_envs-0.6.2.tar.gz (from https://pypi.org/simple/mlagents-envs/) (requires-python:>=3.5,<=3.7)\n",
            "  Skipping link: 0.6.2 Requires-Python >=3.5,<=3.7: https://files.pythonhosted.org/packages/13/78/5a86a46699cd467363d1c681dba11a084f11a7a58cc9563cdfd4848cb7cb/mlagents_envs-0.6.2.tar.gz (from https://pypi.org/simple/mlagents-envs/) (requires-python:>=3.5,<=3.7)\n",
            "  Link requires a different Python (3.11.13 not in: '>=3.5,<3.8'): https://files.pythonhosted.org/packages/dc/82/60c1576422be74b2beebd002cb157bfd97492139a8b37a77cf5ca189858d/mlagents_envs-0.8.0-py3-none-any.whl (from https://pypi.org/simple/mlagents-envs/) (requires-python:>=3.5,<3.8)\n",
            "  Skipping link: 0.8.0 Requires-Python >=3.5,<3.8: https://files.pythonhosted.org/packages/dc/82/60c1576422be74b2beebd002cb157bfd97492139a8b37a77cf5ca189858d/mlagents_envs-0.8.0-py3-none-any.whl (from https://pypi.org/simple/mlagents-envs/) (requires-python:>=3.5,<3.8)\n",
            "  Link requires a different Python (3.11.13 not in: '>=3.5,<3.8'): https://files.pythonhosted.org/packages/6d/70/100176d0c6ea1b9614ba6ddd2bad45d86532518330322bbfac0abfead3b8/mlagents_envs-0.8.0.tar.gz (from https://pypi.org/simple/mlagents-envs/) (requires-python:>=3.5,<3.8)\n",
            "  Skipping link: 0.8.0 Requires-Python >=3.5,<3.8: https://files.pythonhosted.org/packages/6d/70/100176d0c6ea1b9614ba6ddd2bad45d86532518330322bbfac0abfead3b8/mlagents_envs-0.8.0.tar.gz (from https://pypi.org/simple/mlagents-envs/) (requires-python:>=3.5,<3.8)\n",
            "  Link requires a different Python (3.11.13 not in: '>=3.5,<3.8'): https://files.pythonhosted.org/packages/00/ea/69e9c10d23eeddff1733b186c93a39920dcd19e13ebc812dd9114822a5c8/mlagents_envs-0.8.1-py3-none-any.whl (from https://pypi.org/simple/mlagents-envs/) (requires-python:>=3.5,<3.8)\n",
            "  Skipping link: 0.8.1 Requires-Python >=3.5,<3.8: https://files.pythonhosted.org/packages/00/ea/69e9c10d23eeddff1733b186c93a39920dcd19e13ebc812dd9114822a5c8/mlagents_envs-0.8.1-py3-none-any.whl (from https://pypi.org/simple/mlagents-envs/) (requires-python:>=3.5,<3.8)\n",
            "  Link requires a different Python (3.11.13 not in: '>=3.5,<3.8'): https://files.pythonhosted.org/packages/8f/f7/9de5edae884d9a6119926d5c9b12fa40f0cbc180e3a25125a5386fe15527/mlagents_envs-0.8.1.tar.gz (from https://pypi.org/simple/mlagents-envs/) (requires-python:>=3.5,<3.8)\n",
            "  Skipping link: 0.8.1 Requires-Python >=3.5,<3.8: https://files.pythonhosted.org/packages/8f/f7/9de5edae884d9a6119926d5c9b12fa40f0cbc180e3a25125a5386fe15527/mlagents_envs-0.8.1.tar.gz (from https://pypi.org/simple/mlagents-envs/) (requires-python:>=3.5,<3.8)\n",
            "  Link requires a different Python (3.11.13 not in: '>=3.5,<3.8'): https://files.pythonhosted.org/packages/95/5e/1a366917c89d914260a7e15010d7a2b45b1daa8fa37c42eaad10000e87dd/mlagents_envs-0.8.2-py3-none-any.whl (from https://pypi.org/simple/mlagents-envs/) (requires-python:>=3.5,<3.8)\n",
            "  Skipping link: 0.8.2 Requires-Python >=3.5,<3.8: https://files.pythonhosted.org/packages/95/5e/1a366917c89d914260a7e15010d7a2b45b1daa8fa37c42eaad10000e87dd/mlagents_envs-0.8.2-py3-none-any.whl (from https://pypi.org/simple/mlagents-envs/) (requires-python:>=3.5,<3.8)\n",
            "  Link requires a different Python (3.11.13 not in: '>=3.5,<3.8'): https://files.pythonhosted.org/packages/ce/b8/c4629e812653d1fdd2d4709d5cd45747a65e31e1173c4632b8d7b0e785ef/mlagents_envs-0.8.2.tar.gz (from https://pypi.org/simple/mlagents-envs/) (requires-python:>=3.5,<3.8)\n",
            "  Skipping link: 0.8.2 Requires-Python >=3.5,<3.8: https://files.pythonhosted.org/packages/ce/b8/c4629e812653d1fdd2d4709d5cd45747a65e31e1173c4632b8d7b0e785ef/mlagents_envs-0.8.2.tar.gz (from https://pypi.org/simple/mlagents-envs/) (requires-python:>=3.5,<3.8)\n",
            "  Link requires a different Python (3.11.13 not in: '>=3.5,<3.8'): https://files.pythonhosted.org/packages/76/d5/4bc3873af28aabebbcd360ff143c4ba353a7339e308213640da98af86b9e/mlagents_envs-0.9.0-py3-none-any.whl (from https://pypi.org/simple/mlagents-envs/) (requires-python:>=3.5,<3.8)\n",
            "  Skipping link: 0.9.0 Requires-Python >=3.5,<3.8: https://files.pythonhosted.org/packages/76/d5/4bc3873af28aabebbcd360ff143c4ba353a7339e308213640da98af86b9e/mlagents_envs-0.9.0-py3-none-any.whl (from https://pypi.org/simple/mlagents-envs/) (requires-python:>=3.5,<3.8)\n",
            "  Link requires a different Python (3.11.13 not in: '>=3.5,<3.8'): https://files.pythonhosted.org/packages/1f/e6/a50f4bb928f34f5725638cf5479b15065324c579ee81df8715502efa79bf/mlagents_envs-0.9.0.tar.gz (from https://pypi.org/simple/mlagents-envs/) (requires-python:>=3.5,<3.8)\n",
            "  Skipping link: 0.9.0 Requires-Python >=3.5,<3.8: https://files.pythonhosted.org/packages/1f/e6/a50f4bb928f34f5725638cf5479b15065324c579ee81df8715502efa79bf/mlagents_envs-0.9.0.tar.gz (from https://pypi.org/simple/mlagents-envs/) (requires-python:>=3.5,<3.8)\n",
            "  Link requires a different Python (3.11.13 not in: '>=3.5,<3.8'): https://files.pythonhosted.org/packages/57/91/7a817d84cc6d9ca05014d1e37f058cb5974ab1dbd00cee5cc705e03ae5af/mlagents_envs-0.9.1-py3-none-any.whl (from https://pypi.org/simple/mlagents-envs/) (requires-python:>=3.5,<3.8)\n",
            "  Skipping link: 0.9.1 Requires-Python >=3.5,<3.8: https://files.pythonhosted.org/packages/57/91/7a817d84cc6d9ca05014d1e37f058cb5974ab1dbd00cee5cc705e03ae5af/mlagents_envs-0.9.1-py3-none-any.whl (from https://pypi.org/simple/mlagents-envs/) (requires-python:>=3.5,<3.8)\n",
            "  Link requires a different Python (3.11.13 not in: '>=3.5,<3.8'): https://files.pythonhosted.org/packages/13/5f/f52f98ab69008168b0b5455653871c75219ade4fd5148f514adc4dad35a6/mlagents_envs-0.9.1.tar.gz (from https://pypi.org/simple/mlagents-envs/) (requires-python:>=3.5,<3.8)\n",
            "  Skipping link: 0.9.1 Requires-Python >=3.5,<3.8: https://files.pythonhosted.org/packages/13/5f/f52f98ab69008168b0b5455653871c75219ade4fd5148f514adc4dad35a6/mlagents_envs-0.9.1.tar.gz (from https://pypi.org/simple/mlagents-envs/) (requires-python:>=3.5,<3.8)\n",
            "  Link requires a different Python (3.11.13 not in: '>=3.5,<3.8'): https://files.pythonhosted.org/packages/f1/ff/9ebaf47d3cae89861793ce04696e4e664bfb9a35a5fd8c242708661fca08/mlagents_envs-0.9.2-py3-none-any.whl (from https://pypi.org/simple/mlagents-envs/) (requires-python:>=3.5,<3.8)\n",
            "  Skipping link: 0.9.2 Requires-Python >=3.5,<3.8: https://files.pythonhosted.org/packages/f1/ff/9ebaf47d3cae89861793ce04696e4e664bfb9a35a5fd8c242708661fca08/mlagents_envs-0.9.2-py3-none-any.whl (from https://pypi.org/simple/mlagents-envs/) (requires-python:>=3.5,<3.8)\n",
            "  Link requires a different Python (3.11.13 not in: '>=3.5,<3.8'): https://files.pythonhosted.org/packages/33/11/3b2b84be1a4650597b774ce49cb30a0ef7bd5252973ef6a4373a10919111/mlagents_envs-0.9.2.tar.gz (from https://pypi.org/simple/mlagents-envs/) (requires-python:>=3.5,<3.8)\n",
            "  Skipping link: 0.9.2 Requires-Python >=3.5,<3.8: https://files.pythonhosted.org/packages/33/11/3b2b84be1a4650597b774ce49cb30a0ef7bd5252973ef6a4373a10919111/mlagents_envs-0.9.2.tar.gz (from https://pypi.org/simple/mlagents-envs/) (requires-python:>=3.5,<3.8)\n",
            "  Link requires a different Python (3.11.13 not in: '>=3.5,<3.8'): https://files.pythonhosted.org/packages/b0/68/93cbd190c60ac911a46a45ab8609ce9110d24a6643840372a6b62df2ed44/mlagents_envs-0.9.3-py3-none-any.whl (from https://pypi.org/simple/mlagents-envs/) (requires-python:>=3.5,<3.8)\n",
            "  Skipping link: 0.9.3 Requires-Python >=3.5,<3.8: https://files.pythonhosted.org/packages/b0/68/93cbd190c60ac911a46a45ab8609ce9110d24a6643840372a6b62df2ed44/mlagents_envs-0.9.3-py3-none-any.whl (from https://pypi.org/simple/mlagents-envs/) (requires-python:>=3.5,<3.8)\n",
            "  Link requires a different Python (3.11.13 not in: '>=3.5,<3.8'): https://files.pythonhosted.org/packages/cb/43/22f30847e78adabe7c5e692ea563e6ded3b06b9722924216de31d4b0ac76/mlagents_envs-0.9.3.tar.gz (from https://pypi.org/simple/mlagents-envs/) (requires-python:>=3.5,<3.8)\n",
            "  Skipping link: 0.9.3 Requires-Python >=3.5,<3.8: https://files.pythonhosted.org/packages/cb/43/22f30847e78adabe7c5e692ea563e6ded3b06b9722924216de31d4b0ac76/mlagents_envs-0.9.3.tar.gz (from https://pypi.org/simple/mlagents-envs/) (requires-python:>=3.5,<3.8)\n",
            "  Link requires a different Python (3.11.13 not in: '>=3.5,<3.8'): https://files.pythonhosted.org/packages/cd/d6/d8535227dfc8fee57d5734ca6bebd73979eac3ba2640035e383761dadf8b/mlagents_envs-0.10.0.dev0-py3-none-any.whl (from https://pypi.org/simple/mlagents-envs/) (requires-python:>=3.5,<3.8)\n",
            "  Skipping link: 0.10.0.dev0 Requires-Python >=3.5,<3.8: https://files.pythonhosted.org/packages/cd/d6/d8535227dfc8fee57d5734ca6bebd73979eac3ba2640035e383761dadf8b/mlagents_envs-0.10.0.dev0-py3-none-any.whl (from https://pypi.org/simple/mlagents-envs/) (requires-python:>=3.5,<3.8)\n",
            "  Link requires a different Python (3.11.13 not in: '>=3.5,<3.8'): https://files.pythonhosted.org/packages/ec/b1/c2202e0d727c75629db065839398f8ea5430380fea61a98351fcf84b3c11/mlagents_envs-0.10.0.dev0.tar.gz (from https://pypi.org/simple/mlagents-envs/) (requires-python:>=3.5,<3.8)\n",
            "  Skipping link: 0.10.0.dev0 Requires-Python >=3.5,<3.8: https://files.pythonhosted.org/packages/ec/b1/c2202e0d727c75629db065839398f8ea5430380fea61a98351fcf84b3c11/mlagents_envs-0.10.0.dev0.tar.gz (from https://pypi.org/simple/mlagents-envs/) (requires-python:>=3.5,<3.8)\n",
            "  Found link https://files.pythonhosted.org/packages/0d/3b/1a583e8a55d7e82a69ea49af3acb9d0e4f57ea02e932cb49977872a881eb/mlagents_envs-0.10.0.dev1-py3-none-any.whl (from https://pypi.org/simple/mlagents-envs/) (requires-python:>=3.5), version: 0.10.0.dev1\n",
            "  Found link https://files.pythonhosted.org/packages/99/e6/5873ccfb76520d2889708a0549e94f188e93c584de8f90b975fe5c79ff19/mlagents_envs-0.10.0.dev1.tar.gz (from https://pypi.org/simple/mlagents-envs/) (requires-python:>=3.5), version: 0.10.0.dev1\n",
            "  Found link https://files.pythonhosted.org/packages/5b/52/875dc661eca79febd669957cf5e3df297b5b33504938256d11a8ef7ec6ba/mlagents_envs-0.10.0-py3-none-any.whl (from https://pypi.org/simple/mlagents-envs/) (requires-python:>=3.5), version: 0.10.0\n",
            "  Found link https://files.pythonhosted.org/packages/93/13/a701655c35b81b7501ae26f02460ab366f51bd213376968f97eb62bb8714/mlagents_envs-0.10.0.tar.gz (from https://pypi.org/simple/mlagents-envs/) (requires-python:>=3.5), version: 0.10.0\n",
            "  Found link https://files.pythonhosted.org/packages/66/b7/f4665e55a62dc4d96bd9c3e630e0544093b141a19bcca932864bdd2dfb14/mlagents_envs-0.10.1-py3-none-any.whl (from https://pypi.org/simple/mlagents-envs/) (requires-python:>=3.5), version: 0.10.1\n",
            "  Found link https://files.pythonhosted.org/packages/46/dd/8aa34584395e70687032ed47a3932f96c59b72098d556a3a0d41948feeaf/mlagents_envs-0.10.1.tar.gz (from https://pypi.org/simple/mlagents-envs/) (requires-python:>=3.5), version: 0.10.1\n",
            "  Found link https://files.pythonhosted.org/packages/c0/46/5cacad9d1a0628b05c6deac507dd48746e5d93f08ec4bbb4989e0957a544/mlagents_envs-0.11.0.dev0-py3-none-any.whl (from https://pypi.org/simple/mlagents-envs/) (requires-python:>=3.5), version: 0.11.0.dev0\n",
            "  Found link https://files.pythonhosted.org/packages/94/b8/c6866fdb5079e5772f5a364220c6d8945500c4b00f74a4bb0f94c0c86f38/mlagents_envs-0.11.0.dev0.tar.gz (from https://pypi.org/simple/mlagents-envs/) (requires-python:>=3.5), version: 0.11.0.dev0\n",
            "  Found link https://files.pythonhosted.org/packages/83/00/4d1adcdc3f9d3cdc016ae801af68ff21c6e7f7f0a35d4b61297e9b1a0248/mlagents_envs-0.11.0-py3-none-any.whl (from https://pypi.org/simple/mlagents-envs/) (requires-python:>=3.5), version: 0.11.0\n",
            "  Found link https://files.pythonhosted.org/packages/9b/64/5c55e2254b016c6accaab8fdac2721e4fac8415cf53a11ca0e4eab14771e/mlagents_envs-0.11.0.tar.gz (from https://pypi.org/simple/mlagents-envs/) (requires-python:>=3.5), version: 0.11.0\n",
            "  Found link https://files.pythonhosted.org/packages/e3/2d/42b56acedaaf159aba46458056c1e278645083231f87738b1ed913774972/mlagents_envs-0.12.0-py3-none-any.whl (from https://pypi.org/simple/mlagents-envs/) (requires-python:>=3.5), version: 0.12.0\n",
            "  Found link https://files.pythonhosted.org/packages/35/21/15e6daae6f40b791938b2d131790e144660c37c9fcd7a3273246c9b57a8a/mlagents_envs-0.12.0.tar.gz (from https://pypi.org/simple/mlagents-envs/) (requires-python:>=3.5), version: 0.12.0\n",
            "  Found link https://files.pythonhosted.org/packages/9c/cd/c524768f40039a6cb629b8861faea69ce37889fb20c24c3271089836824a/mlagents_envs-0.12.1-py3-none-any.whl (from https://pypi.org/simple/mlagents-envs/) (requires-python:>=3.5), version: 0.12.1\n",
            "  Found link https://files.pythonhosted.org/packages/c2/37/b2f0940e0d9d8b2f05d0bc73de02c91d6ef8144beb07da48ccbaeeaeab8d/mlagents_envs-0.12.1.tar.gz (from https://pypi.org/simple/mlagents-envs/) (requires-python:>=3.5), version: 0.12.1\n",
            "  Found link https://files.pythonhosted.org/packages/69/be/62eeed102b61d38fe45d4dcb8ce154b98c6a62587cef1ce9f326abd3874f/mlagents_envs-0.13.0-py3-none-any.whl (from https://pypi.org/simple/mlagents-envs/) (requires-python:>=3.5), version: 0.13.0\n",
            "  Found link https://files.pythonhosted.org/packages/0f/b0/4407d3a9eb4c07a46ab598d96d50a0b56402c69dd717328efa262d0627dd/mlagents_envs-0.13.0.tar.gz (from https://pypi.org/simple/mlagents-envs/) (requires-python:>=3.5), version: 0.13.0\n",
            "  Found link https://files.pythonhosted.org/packages/c3/b7/cbd47a9095b5030c19aaf9c84a19b8fef311b51afb29d5d0d24658862fdc/mlagents_envs-0.13.1-py3-none-any.whl (from https://pypi.org/simple/mlagents-envs/) (requires-python:>=3.5), version: 0.13.1\n",
            "  Found link https://files.pythonhosted.org/packages/df/34/5795abe59f697f4fe650697191430905f06ecdbe6823950e8b513af8378c/mlagents_envs-0.13.1.tar.gz (from https://pypi.org/simple/mlagents-envs/) (requires-python:>=3.5), version: 0.13.1\n",
            "  Found link https://files.pythonhosted.org/packages/26/55/b520ed1ad47c28f54d1fc522efc217293f551eba97eb2f623307b6cff220/mlagents_envs-0.14.0-py3-none-any.whl (from https://pypi.org/simple/mlagents-envs/) (requires-python:>=3.5), version: 0.14.0\n",
            "  Found link https://files.pythonhosted.org/packages/b8/74/afb86a9f21fbffd3c40a0f384701c00352dbe87b5972a556985f524bc486/mlagents_envs-0.14.0.tar.gz (from https://pypi.org/simple/mlagents-envs/) (requires-python:>=3.5), version: 0.14.0\n",
            "  Found link https://files.pythonhosted.org/packages/50/68/5789bd9d70a125e8932f34a498804e5348916acda9d1685b3387ecbfc836/mlagents_envs-0.14.1-py3-none-any.whl (from https://pypi.org/simple/mlagents-envs/) (requires-python:>=3.5), version: 0.14.1\n",
            "  Found link https://files.pythonhosted.org/packages/f2/04/0bed6718fb3f540f09759c94f45e090708b9b9031bf2ce5b3b2255f061e7/mlagents_envs-0.14.1.tar.gz (from https://pypi.org/simple/mlagents-envs/) (requires-python:>=3.5), version: 0.14.1\n",
            "  Found link https://files.pythonhosted.org/packages/7e/5a/5e906ddf8f58604ecf4b8c5de8cdb8d1b8dd9a4fb87cafa0e854b21dd74a/mlagents_envs-0.15.0-py3-none-any.whl (from https://pypi.org/simple/mlagents-envs/) (requires-python:>=3.5), version: 0.15.0\n",
            "  Found link https://files.pythonhosted.org/packages/84/bf/b5c124d7d04f9698ed47f919843875ac1d7a1f63022b306960527d3914b9/mlagents_envs-0.15.0.tar.gz (from https://pypi.org/simple/mlagents-envs/) (requires-python:>=3.5), version: 0.15.0\n",
            "  Found link https://files.pythonhosted.org/packages/b4/1e/1e820f53b5795775ad772bc29ae04877793cd22c2a50f567b13a868b59af/mlagents_envs-0.15.1-py3-none-any.whl (from https://pypi.org/simple/mlagents-envs/) (requires-python:>=3.5), version: 0.15.1\n",
            "  Found link https://files.pythonhosted.org/packages/7c/45/a14bde622efcc9c76cd1e01bd6114ebd78a95e6d478c4851799d846cd197/mlagents_envs-0.15.1.tar.gz (from https://pypi.org/simple/mlagents-envs/) (requires-python:>=3.5), version: 0.15.1\n",
            "  Found link https://files.pythonhosted.org/packages/94/54/b6573be7dbc325fc655f69c5d11e50d62faea60e52072a7e6c492f632f00/mlagents_envs-0.16.0-py3-none-any.whl (from https://pypi.org/simple/mlagents-envs/) (requires-python:>=3.5), version: 0.16.0\n",
            "  Found link https://files.pythonhosted.org/packages/9c/26/8de2a53b4634427e67469c25723cc61bfaed5b8800b5274ee69d0e7a5290/mlagents_envs-0.16.0.tar.gz (from https://pypi.org/simple/mlagents-envs/) (requires-python:>=3.5), version: 0.16.0\n",
            "  Found link https://files.pythonhosted.org/packages/a7/bf/dfe38aa99162bb022ce254b6ce1dabdd637ae34dd341358a44be6319bdd2/mlagents_envs-0.16.1-py3-none-any.whl (from https://pypi.org/simple/mlagents-envs/) (requires-python:>=3.5), version: 0.16.1\n",
            "  Found link https://files.pythonhosted.org/packages/84/99/6ccc7302f51f49aea362dca0dfac0c7a5f825d70247fe53b0c1bf7f89a4f/mlagents_envs-0.16.1.tar.gz (from https://pypi.org/simple/mlagents-envs/) (requires-python:>=3.5), version: 0.16.1\n",
            "  Found link https://files.pythonhosted.org/packages/99/e0/d182e0f9a2729a5938f296d29cd64f35a078a5dbb7cf3bb2f9a0aac1528e/mlagents_envs-0.17.0-py3-none-any.whl (from https://pypi.org/simple/mlagents-envs/) (requires-python:>=3.5), version: 0.17.0\n",
            "  Found link https://files.pythonhosted.org/packages/70/ae/f3f97508cefd89ac6cc2b4e42618a621bedd7aaa8da8e311cce6a8cd34c5/mlagents_envs-0.17.0.tar.gz (from https://pypi.org/simple/mlagents-envs/) (requires-python:>=3.5), version: 0.17.0\n",
            "  Found link https://files.pythonhosted.org/packages/db/8b/583121afe8183cd5035a83b894e0e45ba9a39e541f4e5bf98c8acfac4281/mlagents_envs-0.18.0-py3-none-any.whl (from https://pypi.org/simple/mlagents-envs/) (requires-python:>=3.5), version: 0.18.0\n",
            "  Found link https://files.pythonhosted.org/packages/e8/24/651df2064bfd772f49f30092f41ff1c379976ca71b511d51e99151fbc29a/mlagents_envs-0.18.0.tar.gz (from https://pypi.org/simple/mlagents-envs/) (requires-python:>=3.5), version: 0.18.0\n",
            "  Found link https://files.pythonhosted.org/packages/1b/07/b0554c030b635e69690d3a196e0bff4814b8eebe8922babafce700439083/mlagents_envs-0.18.1-py3-none-any.whl (from https://pypi.org/simple/mlagents-envs/) (requires-python:>=3.5), version: 0.18.1\n",
            "  Found link https://files.pythonhosted.org/packages/72/bb/19fdbad5d5615cb1bb05a81f9c52b8bf0ff1a90887e6ae3d9a4f4bd4cb9e/mlagents_envs-0.18.1.tar.gz (from https://pypi.org/simple/mlagents-envs/) (requires-python:>=3.5), version: 0.18.1\n",
            "  Found link https://files.pythonhosted.org/packages/39/72/9cc1ef48230b19956f26e5700b20175e39efd040b0c9747da13e15cc09b4/mlagents_envs-0.19.0-py3-none-any.whl (from https://pypi.org/simple/mlagents-envs/) (requires-python:>=3.6.1), version: 0.19.0\n",
            "  Found link https://files.pythonhosted.org/packages/08/2d/13df0e60e6a40e93c05de25676a31133c202ccf4634b914d708b65a87c18/mlagents_envs-0.19.0.tar.gz (from https://pypi.org/simple/mlagents-envs/) (requires-python:>=3.6.1), version: 0.19.0\n",
            "  Found link https://files.pythonhosted.org/packages/e8/16/9e3c8b41b63a891f99710a977ac38da650cec6ba7ba0c6546211480049a7/mlagents_envs-0.20.0-py3-none-any.whl (from https://pypi.org/simple/mlagents-envs/) (requires-python:>=3.6.1), version: 0.20.0\n",
            "  Found link https://files.pythonhosted.org/packages/23/23/45142aac8728b4ab5fd52503ea04e92a94a41ef16782469e6054d677c090/mlagents_envs-0.20.0.tar.gz (from https://pypi.org/simple/mlagents-envs/) (requires-python:>=3.6.1), version: 0.20.0\n",
            "  Found link https://files.pythonhosted.org/packages/17/af/04988622b9b4b23a8d48798df28356e442bc64c82b769c473c56f9a97477/mlagents_envs-0.21.0-py3-none-any.whl (from https://pypi.org/simple/mlagents-envs/) (requires-python:>=3.6.1), version: 0.21.0\n",
            "  Found link https://files.pythonhosted.org/packages/f2/fd/a8cbea92f16704980f1a743caec455021647300d88ec810c2b2ccc65687f/mlagents_envs-0.21.0.tar.gz (from https://pypi.org/simple/mlagents-envs/) (requires-python:>=3.6.1), version: 0.21.0\n",
            "  Found link https://files.pythonhosted.org/packages/7a/d4/fa0fafdc21b5d4cfced69c7a524c78a2468446c16e0d139a78c6735a1859/mlagents_envs-0.21.1-py3-none-any.whl (from https://pypi.org/simple/mlagents-envs/) (requires-python:>=3.6.1), version: 0.21.1\n",
            "  Found link https://files.pythonhosted.org/packages/45/08/f5177c87f7582755b564c405883122fe2ea4394f7e58f213c8bccab2319a/mlagents_envs-0.21.1.tar.gz (from https://pypi.org/simple/mlagents-envs/) (requires-python:>=3.6.1), version: 0.21.1\n",
            "  Found link https://files.pythonhosted.org/packages/d5/d0/3af3ab6112a081608ad9d7dc4bdc77ecd548daa4eb56dc1d6570b7d187e4/mlagents_envs-0.22.0-py3-none-any.whl (from https://pypi.org/simple/mlagents-envs/) (requires-python:>=3.6.1), version: 0.22.0\n",
            "  Found link https://files.pythonhosted.org/packages/82/e6/8ccd1cbdbf4964f26e2dc0950f4933307b48c036d909f5d1cb283e0c1b65/mlagents_envs-0.22.0.tar.gz (from https://pypi.org/simple/mlagents-envs/) (requires-python:>=3.6.1), version: 0.22.0\n",
            "  Found link https://files.pythonhosted.org/packages/d6/4a/49f154139c4526ecfce578bfdd679cb95a957cf62d26315c73f0db0a278d/mlagents_envs-0.23.0-py3-none-any.whl (from https://pypi.org/simple/mlagents-envs/) (requires-python:>=3.6.1), version: 0.23.0\n",
            "  Found link https://files.pythonhosted.org/packages/95/09/db8a0dedb2cdecb8c675dd4e491d1ddfdde8a60743f6e0553691431c0c3d/mlagents_envs-0.23.0.tar.gz (from https://pypi.org/simple/mlagents-envs/) (requires-python:>=3.6.1), version: 0.23.0\n",
            "  Found link https://files.pythonhosted.org/packages/d8/ab/0959b602a062d89e8031cd54ec39c9d7338e7f7a2fdd20d55d47673d0d3a/mlagents_envs-0.24.0-py3-none-any.whl (from https://pypi.org/simple/mlagents-envs/) (requires-python:>=3.6.1), version: 0.24.0\n",
            "  Found link https://files.pythonhosted.org/packages/5f/5c/59d06d615f3265de950af2f6b0525d51ca0cf5555d37a30ec0f6e77e1f77/mlagents_envs-0.24.0.tar.gz (from https://pypi.org/simple/mlagents-envs/) (requires-python:>=3.6.1), version: 0.24.0\n",
            "  Found link https://files.pythonhosted.org/packages/2b/23/9eb6f73b7e4d58df1d1eacf6cd354c3557bb4d7b12d952e8e37c5231d76f/mlagents_envs-0.24.1-py3-none-any.whl (from https://pypi.org/simple/mlagents-envs/) (requires-python:>=3.6.1), version: 0.24.1\n",
            "  Found link https://files.pythonhosted.org/packages/9c/d3/7ad6cbdf7bd16e781c05e6b3ffe4d1cc094e5d79f0bf86f0e3d290eb4c04/mlagents_envs-0.24.1.tar.gz (from https://pypi.org/simple/mlagents-envs/) (requires-python:>=3.6.1), version: 0.24.1\n",
            "  Found link https://files.pythonhosted.org/packages/81/4a/664f5b64c76c11e1cbebdc31fa0650a9fe76462d793f9d6df336d5647a67/mlagents_envs-0.25.0-py3-none-any.whl (from https://pypi.org/simple/mlagents-envs/) (requires-python:>=3.6.1), version: 0.25.0\n",
            "  Found link https://files.pythonhosted.org/packages/fc/48/12b9ea8d78426b1e3db766a929ab8bf077700043af99d156d8a686544135/mlagents_envs-0.25.0.tar.gz (from https://pypi.org/simple/mlagents-envs/) (requires-python:>=3.6.1), version: 0.25.0\n",
            "  Found link https://files.pythonhosted.org/packages/b6/e1/72924f6ebfdd4ba20e64d1b3347b5af90e9375155070e7f49a66a445ac1a/mlagents_envs-0.25.1-py3-none-any.whl (from https://pypi.org/simple/mlagents-envs/) (requires-python:>=3.6.1), version: 0.25.1\n",
            "  Found link https://files.pythonhosted.org/packages/5a/17/016e1ad84204bab3bb8fad9b58c7df06f09c4a5361354017cc18049533a3/mlagents_envs-0.25.1.tar.gz (from https://pypi.org/simple/mlagents-envs/) (requires-python:>=3.6.1), version: 0.25.1\n",
            "  Found link https://files.pythonhosted.org/packages/7a/d2/c522da0a51ae7081770df24426d40380aae47d5b976fddb06518958be833/mlagents_envs-0.26.0-py3-none-any.whl (from https://pypi.org/simple/mlagents-envs/) (requires-python:>=3.6.1), version: 0.26.0\n",
            "  Found link https://files.pythonhosted.org/packages/8b/cf/68f803f50fa73dfd4a32554529bb887549d61239bcb4f8d52c853d815b10/mlagents_envs-0.26.0.tar.gz (from https://pypi.org/simple/mlagents-envs/) (requires-python:>=3.6.1), version: 0.26.0\n",
            "  Found link https://files.pythonhosted.org/packages/d1/b4/ed6e5cbcd091324bc8c2f3f23bcba794bd7610a5e6a154b881bce6f9993b/mlagents_envs-0.27.0-py3-none-any.whl (from https://pypi.org/simple/mlagents-envs/) (requires-python:>=3.6.1), version: 0.27.0\n",
            "  Found link https://files.pythonhosted.org/packages/79/b9/1589aecd36c62f80e6df3ad48a9462b0c7748f3d81fd9978c8051c1a3c59/mlagents_envs-0.27.0.tar.gz (from https://pypi.org/simple/mlagents-envs/) (requires-python:>=3.6.1), version: 0.27.0\n",
            "  Found link https://files.pythonhosted.org/packages/e7/78/eb4dd13ac89e99c289cf78783a84867642c6d53147c030a60e533e96c4df/mlagents_envs-0.28.0-py3-none-any.whl (from https://pypi.org/simple/mlagents-envs/) (requires-python:>=3.6.1), version: 0.28.0\n",
            "  Found link https://files.pythonhosted.org/packages/df/d4/1eb7754c386c30776a6c29d19ad1f74e8a0e128ce44bb3515c69ca9804e7/mlagents_envs-0.28.0.tar.gz (from https://pypi.org/simple/mlagents-envs/) (requires-python:>=3.6.1), version: 0.28.0\n",
            "  Link requires a different Python (3.11.13 not in: '>=3.7.2,<3.10.0'): https://files.pythonhosted.org/packages/6e/4b/17de1792ff10108e1bcaaacaf4eaf9a5f2f0d2df4c8785b0cd05aac35450/mlagents_envs-0.29.0-py3-none-any.whl (from https://pypi.org/simple/mlagents-envs/) (requires-python:>=3.7.2,<3.10.0)\n",
            "  Skipping link: 0.29.0 Requires-Python >=3.7.2,<3.10.0: https://files.pythonhosted.org/packages/6e/4b/17de1792ff10108e1bcaaacaf4eaf9a5f2f0d2df4c8785b0cd05aac35450/mlagents_envs-0.29.0-py3-none-any.whl (from https://pypi.org/simple/mlagents-envs/) (requires-python:>=3.7.2,<3.10.0)\n",
            "  Link requires a different Python (3.11.13 not in: '>=3.7.2,<3.10.0'): https://files.pythonhosted.org/packages/ce/17/dd84c2326ba723062b94ba5182824e722058bd93defd7277a90212b27d6f/mlagents_envs-0.29.0.tar.gz (from https://pypi.org/simple/mlagents-envs/) (requires-python:>=3.7.2,<3.10.0)\n",
            "  Skipping link: 0.29.0 Requires-Python >=3.7.2,<3.10.0: https://files.pythonhosted.org/packages/ce/17/dd84c2326ba723062b94ba5182824e722058bd93defd7277a90212b27d6f/mlagents_envs-0.29.0.tar.gz (from https://pypi.org/simple/mlagents-envs/) (requires-python:>=3.7.2,<3.10.0)\n",
            "  Link requires a different Python (3.11.13 not in: '>=3.8.13,<=3.10.8'): https://files.pythonhosted.org/packages/23/35/bae4feca6016b0f530bec49408702da18fc5c2d8bf83925dd70cdc1bf755/mlagents_envs-0.30.0.tar.gz (from https://pypi.org/simple/mlagents-envs/) (requires-python:>=3.8.13,<=3.10.8)\n",
            "  Skipping link: 0.30.0 Requires-Python >=3.8.13,<=3.10.8: https://files.pythonhosted.org/packages/23/35/bae4feca6016b0f530bec49408702da18fc5c2d8bf83925dd70cdc1bf755/mlagents_envs-0.30.0.tar.gz (from https://pypi.org/simple/mlagents-envs/) (requires-python:>=3.8.13,<=3.10.8)\n",
            "  Link requires a different Python (3.11.13 not in: '>=3.10.1,<=3.10.12'): https://files.pythonhosted.org/packages/37/b9/8e0a187c614326226f146efc88d72c342c3f881ba6f81353cbc9ddc7e901/mlagents_envs-1.0.0-py3-none-any.whl (from https://pypi.org/simple/mlagents-envs/) (requires-python:>=3.10.1,<=3.10.12)\n",
            "  Skipping link: 1.0.0 Requires-Python >=3.10.1,<=3.10.12: https://files.pythonhosted.org/packages/37/b9/8e0a187c614326226f146efc88d72c342c3f881ba6f81353cbc9ddc7e901/mlagents_envs-1.0.0-py3-none-any.whl (from https://pypi.org/simple/mlagents-envs/) (requires-python:>=3.10.1,<=3.10.12)\n",
            "  Link requires a different Python (3.11.13 not in: '>=3.10.1,<=3.10.12'): https://files.pythonhosted.org/packages/d5/1c/caf3ddf81a7a549f34456bf461fe4ec0cd065d6e2f7e1fc43b470d094a1d/mlagents_envs-1.0.0.tar.gz (from https://pypi.org/simple/mlagents-envs/) (requires-python:>=3.10.1,<=3.10.12)\n",
            "  Skipping link: 1.0.0 Requires-Python >=3.10.1,<=3.10.12: https://files.pythonhosted.org/packages/d5/1c/caf3ddf81a7a549f34456bf461fe4ec0cd065d6e2f7e1fc43b470d094a1d/mlagents_envs-1.0.0.tar.gz (from https://pypi.org/simple/mlagents-envs/) (requires-python:>=3.10.1,<=3.10.12)\n",
            "  Link requires a different Python (3.11.13 not in: '<=3.10.12,>=3.10.1'): https://files.pythonhosted.org/packages/1c/d6/65e4dec29de915c3cd1966d7c02fa2b09a24f762287db5231151f72671de/mlagents_envs-1.1.0-py3-none-any.whl (from https://pypi.org/simple/mlagents-envs/) (requires-python:<=3.10.12,>=3.10.1)\n",
            "  Skipping link: 1.1.0 Requires-Python <=3.10.12,>=3.10.1: https://files.pythonhosted.org/packages/1c/d6/65e4dec29de915c3cd1966d7c02fa2b09a24f762287db5231151f72671de/mlagents_envs-1.1.0-py3-none-any.whl (from https://pypi.org/simple/mlagents-envs/) (requires-python:<=3.10.12,>=3.10.1)\n",
            "  Link requires a different Python (3.11.13 not in: '<=3.10.12,>=3.10.1'): https://files.pythonhosted.org/packages/d5/d7/a5ed11ea04671e47bcc6fdeff227941e8390b26ce5f1be1c2f1456afc122/mlagents_envs-1.1.0.tar.gz (from https://pypi.org/simple/mlagents-envs/) (requires-python:<=3.10.12,>=3.10.1)\n",
            "  Skipping link: 1.1.0 Requires-Python <=3.10.12,>=3.10.1: https://files.pythonhosted.org/packages/d5/d7/a5ed11ea04671e47bcc6fdeff227941e8390b26ce5f1be1c2f1456afc122/mlagents_envs-1.1.0.tar.gz (from https://pypi.org/simple/mlagents-envs/) (requires-python:<=3.10.12,>=3.10.1)\n",
            "Skipping link: not a file: https://pypi.org/simple/mlagents-envs/\n",
            "Given no hashes to check 58 links for project 'mlagents-envs': discarding no candidates\n",
            "Collecting mlagents_envs\n",
            "  Obtaining dependency information for mlagents_envs from https://files.pythonhosted.org/packages/e7/78/eb4dd13ac89e99c289cf78783a84867642c6d53147c030a60e533e96c4df/mlagents_envs-0.28.0-py3-none-any.whl.metadata\n",
            "  Created temporary directory: /tmp/pip-unpack-ypy_yhif\n",
            "  Looking up \"https://files.pythonhosted.org/packages/e7/78/eb4dd13ac89e99c289cf78783a84867642c6d53147c030a60e533e96c4df/mlagents_envs-0.28.0-py3-none-any.whl.metadata\" in the cache\n",
            "  Current age based on date: 14\n",
            "  Ignoring unknown cache-control directive: immutable\n",
            "  Freshness lifetime from max-age: 365000000\n",
            "  The response is \"fresh\", returning cached response\n",
            "  365000000 > 14\n",
            "  Using cached mlagents_envs-0.28.0-py3-none-any.whl.metadata (816 bytes)\n",
            "  Created temporary directory: /tmp/pip-metadata-vcgim7fa\n",
            "Requirement already satisfied: cloudpickle in /usr/local/lib/python3.11/dist-packages (from mlagents_envs) (3.1.1)\n",
            "Requirement already satisfied: grpcio>=1.11.0 in /usr/local/lib/python3.11/dist-packages (from mlagents_envs) (1.73.0)\n",
            "Requirement already satisfied: numpy>=1.14.1 in /usr/local/lib/python3.11/dist-packages (from mlagents_envs) (2.0.2)\n",
            "Requirement already satisfied: Pillow>=4.2.1 in /usr/local/lib/python3.11/dist-packages (from mlagents_envs) (11.2.1)\n",
            "Requirement already satisfied: protobuf>=3.6 in /usr/local/lib/python3.11/dist-packages (from mlagents_envs) (3.20.3)\n",
            "Requirement already satisfied: pyyaml>=3.1.0 in /usr/local/lib/python3.11/dist-packages (from mlagents_envs) (6.0.2)\n",
            "Created temporary directory: /tmp/pip-unpack-hvpoajiz\n",
            "Looking up \"https://files.pythonhosted.org/packages/e7/78/eb4dd13ac89e99c289cf78783a84867642c6d53147c030a60e533e96c4df/mlagents_envs-0.28.0-py3-none-any.whl\" in the cache\n",
            "No cache entry available\n",
            "No cache entry available\n",
            "Starting new HTTPS connection (1): files.pythonhosted.org:443\n",
            "https://files.pythonhosted.org:443 \"GET /packages/e7/78/eb4dd13ac89e99c289cf78783a84867642c6d53147c030a60e533e96c4df/mlagents_envs-0.28.0-py3-none-any.whl HTTP/1.1\" 200 77385\n",
            "Downloading mlagents_envs-0.28.0-py3-none-any.whl (77 kB)\n",
            "Ignoring unknown cache-control directive: immutable\n",
            "Updating cache with response from \"https://files.pythonhosted.org/packages/e7/78/eb4dd13ac89e99c289cf78783a84867642c6d53147c030a60e533e96c4df/mlagents_envs-0.28.0-py3-none-any.whl\"\n",
            "etag object cached for 1209600 seconds\n",
            "Caching due to etag\n",
            "Downloading link https://files.pythonhosted.org/packages/e7/78/eb4dd13ac89e99c289cf78783a84867642c6d53147c030a60e533e96c4df/mlagents_envs-0.28.0-py3-none-any.whl (from https://pypi.org/simple/mlagents-envs/) (requires-python:>=3.6.1) to /tmp/pip-unpack-hvpoajiz/mlagents_envs-0.28.0-py3-none-any.whl\n",
            "Installing collected packages: mlagents_envs\n",
            "\n",
            "Successfully installed mlagents_envs-0.28.0\n",
            "Removed build tracker: '/tmp/pip-build-tracker-1x7_ktbe'\n"
          ]
        }
      ],
      "source": [
        "from IPython import get_ipython\n",
        "from IPython.display import display\n",
        "# %%\n",
        "!pip install --upgrade pip setuptools wheel\n",
        "!apt-get update && apt-get install -y build-essential python3-dev\n",
        "# Downgrade protobuf to a compatible version\n",
        "!pip install protobuf==3.20.3\n",
        "!pip cache purge\n",
        "!pip install mlagents\n",
        "!pip install mlagents_envs --no-build-isolation -vvv"
      ]
    },
    {
      "cell_type": "markdown",
      "metadata": {
        "id": "sorkw-qwldU_"
      },
      "source": [
        "# Load Neccessary Packages"
      ]
    },
    {
      "cell_type": "code",
      "execution_count": 3,
      "metadata": {
        "scrolled": true,
        "colab": {
          "base_uri": "https://localhost:8080/"
        },
        "collapsed": true,
        "id": "lGzp0tX6ldVA",
        "outputId": "f0cd0dd8-c2e0-42cd-8f39-f638568ffc34"
      },
      "outputs": [
        {
          "output_type": "stream",
          "name": "stdout",
          "text": [
            "✅ mlagents_envs installed!\n"
          ]
        }
      ],
      "source": [
        "# Load neccessary packages in python\n",
        "\n",
        "from mlagents_envs.environment import UnityEnvironment\n",
        "print(\"✅ mlagents_envs installed!\")\n",
        "import numpy as np\n",
        "import numpy as np\n",
        "import random\n",
        "from collections import namedtuple, deque\n",
        "#from model import QNetwork\n",
        "import torch\n",
        "import torch.nn.functional as F\n",
        "import torch.optim as optim\n",
        "import torch.nn as nn\n",
        "import torch.nn.functional as F\n",
        "import matplotlib.pyplot as plt"
      ]
    },
    {
      "cell_type": "markdown",
      "metadata": {
        "id": "MWlXK5JrldVC"
      },
      "source": [
        "# Define the QNetwork\n",
        "\n",
        "####  In the following section, we design the q-network to approximate the value function\n",
        "\n"
      ]
    },
    {
      "cell_type": "code",
      "execution_count": null,
      "metadata": {
        "id": "1W8QIpBCldVD"
      },
      "outputs": [],
      "source": [
        "class QNetwork(nn.Module):\n",
        "    \"\"\"Actor (Policy) Model.\"\"\"\n",
        "\n",
        "    def __init__(self, state_size, action_size, seed, fc1_units=40, fc2_units=40,fc3_units=40):\n",
        "        \"\"\"Initialize parameters and build model.\n",
        "        Params\n",
        "        ======\n",
        "            state_size (int): Dimension of each state\n",
        "            action_size (int): Dimension of each action\n",
        "            seed (int): Random seed\n",
        "            fc1_units (int): Number of nodes in first hidden layer\n",
        "            fc2_units (int): Number of nodes in second hidden layer\n",
        "        \"\"\"\n",
        "        super(QNetwork, self).__init__()\n",
        "        self.seed = torch.manual_seed(seed)\n",
        "        self.fc1 = nn.Linear(state_size, fc1_units)\n",
        "        self.fc2 = nn.Linear(fc1_units, fc2_units)\n",
        "        self.fc3 = nn.Linear(fc2_units, fc3_units)\n",
        "        self.fc4=nn.Linear(fc3_units,action_size)\n",
        "\n",
        "    def forward(self, state):\n",
        "        \"\"\"Build a network that maps state -> action values.\"\"\"\n",
        "        x = F.relu(self.fc1(state))\n",
        "        x = F.relu(self.fc2(x))\n",
        "        x=F.relu(self.fc3(x))\n",
        "        return self.fc4(x)\n"
      ]
    },
    {
      "cell_type": "markdown",
      "metadata": {
        "id": "j9u1tRBMldVD"
      },
      "source": [
        "# DQN Function"
      ]
    },
    {
      "cell_type": "code",
      "execution_count": null,
      "metadata": {
        "id": "uKxR78IwldVE"
      },
      "outputs": [],
      "source": [
        "BUFFER_SIZE = int(1e5)  # replay buffer size\n",
        "BATCH_SIZE = 32         # minibatch size\n",
        "GAMMA = 0.99            # discount factor\n",
        "TAU = 1e-3              # for soft update of target parameters\n",
        "LR = 5e-4               # learning rate\n",
        "UPDATE_EVERY = 8        # how often to update the network\n",
        "\n",
        "device = torch.device(\"cuda:0\" if torch.cuda.is_available() else \"cpu\")\n",
        "\n",
        "class Agent():\n",
        "    \"\"\"Interacts with and learns from the environment.\"\"\"\n",
        "\n",
        "    def __init__(self, state_size, action_size, seed):\n",
        "        \"\"\"Initialize an Agent object.\n",
        "\n",
        "        Params\n",
        "        ======\n",
        "            state_size (int): dimension of each state\n",
        "            action_size (int): dimension of each action\n",
        "            seed (int): random seed\n",
        "        \"\"\"\n",
        "        self.state_size = state_size\n",
        "        self.action_size = action_size\n",
        "        self.seed = random.seed(seed)\n",
        "\n",
        "        # Q-Network\n",
        "        self.qnetwork_local = QNetwork(state_size, action_size, seed).to(device)\n",
        "        self.qnetwork_target = QNetwork(state_size, action_size, seed).to(device)\n",
        "        self.optimizer = optim.Adam(self.qnetwork_local.parameters(), lr=LR)\n",
        "\n",
        "        # Replay memory\n",
        "        self.memory = ReplayBuffer(action_size, BUFFER_SIZE, BATCH_SIZE, seed)\n",
        "        # Initialize time step (for updating every UPDATE_EVERY steps)\n",
        "        self.t_step = 0\n",
        "\n",
        "    def step(self, state, action, reward, next_state, done):\n",
        "        # Save experience in replay memory\n",
        "        self.memory.add(state, action, reward, next_state, done)\n",
        "\n",
        "        # Learn every UPDATE_EVERY time steps.\n",
        "        self.t_step = (self.t_step + 1) % UPDATE_EVERY\n",
        "        if self.t_step == 0:\n",
        "            # If enough samples are available in memory, get random subset and learn\n",
        "            if len(self.memory) > BATCH_SIZE:\n",
        "                experiences = self.memory.sample()\n",
        "                self.learn(experiences, GAMMA)\n",
        "\n",
        "    def act(self, state, eps=0.):\n",
        "        \"\"\"Returns actions for given state as per current policy.\n",
        "\n",
        "        Params\n",
        "        ======\n",
        "            state (array_like): current state\n",
        "            eps (float): epsilon, for epsilon-greedy action selection\n",
        "        \"\"\"\n",
        "        state = torch.from_numpy(state).float().unsqueeze(0).to(device)\n",
        "        self.qnetwork_local.eval()\n",
        "        with torch.no_grad():\n",
        "            action_values = self.qnetwork_local(state)\n",
        "        self.qnetwork_local.train()\n",
        "\n",
        "        # Epsilon-greedy action selection\n",
        "        if random.random() > eps:\n",
        "            return np.argmax(action_values.cpu().data.numpy())\n",
        "        else:\n",
        "            return random.choice(np.arange(self.action_size))\n",
        "\n",
        "    def learn(self, experiences, gamma):\n",
        "        \"\"\"Update value parameters using given batch of experience tuples.\n",
        "\n",
        "        Params\n",
        "        ======\n",
        "            experiences (Tuple[torch.Variable]): tuple of (s, a, r, s', done) tuples\n",
        "            gamma (float): discount factor\n",
        "        \"\"\"\n",
        "        states, actions, rewards, next_states, dones = experiences\n",
        "\n",
        "        # Get max predicted Q values (for next states) from target model\n",
        "        Q_targets_next = self.qnetwork_target(next_states).detach().max(1)[0].unsqueeze(1)\n",
        "        # Compute Q targets for current states\n",
        "        Q_targets = rewards + (gamma * Q_targets_next * (1 - dones))\n",
        "\n",
        "        # Get expected Q values from local model\n",
        "        Q_expected = self.qnetwork_local(states).gather(1, actions)\n",
        "\n",
        "        # Compute loss\n",
        "        loss = F.mse_loss(Q_expected, Q_targets)\n",
        "        # Minimize the loss\n",
        "        self.optimizer.zero_grad()\n",
        "        loss.backward()\n",
        "        self.optimizer.step()\n",
        "\n",
        "        # ------------------- update target network ------------------- #\n",
        "        self.soft_update(self.qnetwork_local, self.qnetwork_target, TAU)\n",
        "\n",
        "    def soft_update(self, local_model, target_model, tau):\n",
        "        \"\"\"Soft update model parameters.\n",
        "        θ_target = τ*θ_local + (1 - τ)*θ_target\n",
        "\n",
        "        Params\n",
        "        ======\n",
        "            local_model (PyTorch model): weights will be copied from\n",
        "            target_model (PyTorch model): weights will be copied to\n",
        "            tau (float): interpolation parameter\n",
        "        \"\"\"\n",
        "        for target_param, local_param in zip(target_model.parameters(), local_model.parameters()):\n",
        "            target_param.data.copy_(tau*local_param.data + (1.0-tau)*target_param.data)\n",
        "\n",
        "\n",
        "class ReplayBuffer:\n",
        "    \"\"\"Fixed-size buffer to store experience tuples.\"\"\"\n",
        "\n",
        "    def __init__(self, action_size, buffer_size, batch_size, seed):\n",
        "        \"\"\"Initialize a ReplayBuffer object.\n",
        "\n",
        "        Params\n",
        "        ======\n",
        "            action_size (int): dimension of each action\n",
        "            buffer_size (int): maximum size of buffer\n",
        "            batch_size (int): size of each training batch\n",
        "            seed (int): random seed\n",
        "        \"\"\"\n",
        "        self.action_size = action_size\n",
        "        self.memory = deque(maxlen=buffer_size)\n",
        "        self.batch_size = batch_size\n",
        "        self.experience = namedtuple(\"Experience\", field_names=[\"state\", \"action\", \"reward\", \"next_state\", \"done\"])\n",
        "        self.seed = random.seed(seed)\n",
        "\n",
        "    def add(self, state, action, reward, next_state, done):\n",
        "        \"\"\"Add a new experience to memory.\"\"\"\n",
        "        e = self.experience(state, action, reward, next_state, done)\n",
        "        self.memory.append(e)\n",
        "\n",
        "    def sample(self):\n",
        "        \"\"\"Randomly sample a batch of experiences from memory.\"\"\"\n",
        "        experiences = random.sample(self.memory, k=self.batch_size)\n",
        "\n",
        "        states = torch.from_numpy(np.vstack([e.state for e in experiences if e is not None])).float().to(device)\n",
        "        actions = torch.from_numpy(np.vstack([e.action for e in experiences if e is not None])).long().to(device)\n",
        "        rewards = torch.from_numpy(np.vstack([e.reward for e in experiences if e is not None])).float().to(device)\n",
        "        next_states = torch.from_numpy(np.vstack([e.next_state for e in experiences if e is not None])).float().to(device)\n",
        "        dones = torch.from_numpy(np.vstack([e.done for e in experiences if e is not None]).astype(np.uint8)).float().to(device)\n",
        "\n",
        "        return (states, actions, rewards, next_states, dones)\n",
        "\n",
        "    def __len__(self):\n",
        "        \"\"\"Return the current size of internal memory.\"\"\"\n",
        "        return len(self.memory)"
      ]
    },
    {
      "cell_type": "markdown",
      "metadata": {
        "id": "E_A-iNtOldVF"
      },
      "source": [
        "The environment is already saved in the Workspace and can be accessed at the file path provided below.  Please run the next code cell without making any changes."
      ]
    },
    {
      "cell_type": "code",
      "execution_count": null,
      "metadata": {
        "id": "pu0LqB72ldVG"
      },
      "outputs": [],
      "source": [
        "# please do not modify the line below\n",
        "env = UnityEnvironment(file_name=\"/data/Banana_Linux_NoVis/Banana.x86_64\")"
      ]
    },
    {
      "cell_type": "markdown",
      "metadata": {
        "id": "Su7w1AVKldVI"
      },
      "source": [
        "Environments contain **_brains_** which are responsible for deciding the actions of their associated agents. Here we check for the first brain available, and set it as the default brain we will be controlling from Python."
      ]
    },
    {
      "cell_type": "code",
      "execution_count": null,
      "metadata": {
        "id": "4lPay4oqldVI"
      },
      "outputs": [],
      "source": [
        "# get the default brain\n",
        "brain_name = env.brain_names[0]\n",
        "brain = env.brains[brain_name]"
      ]
    },
    {
      "cell_type": "markdown",
      "metadata": {
        "id": "ywrv-Bg0ldVI"
      },
      "source": [
        "### 2. Examine the State and Action Spaces\n",
        "\n",
        "Run the code cell below to print some information about the environment."
      ]
    },
    {
      "cell_type": "code",
      "execution_count": null,
      "metadata": {
        "id": "9ZvtbIFtldVI"
      },
      "outputs": [],
      "source": [
        "# reset the environment\n",
        "env_info = env.reset(train_mode=True)[brain_name]\n",
        "\n",
        "# number of agents in the environment\n",
        "print('Number of agents:', len(env_info.agents))\n",
        "\n",
        "# number of actions\n",
        "action_size = brain.vector_action_space_size\n",
        "print('Number of actions:', action_size)\n",
        "\n",
        "# examine the state space\n",
        "state = env_info.vector_observations[0]\n",
        "print('States look like:', state)\n",
        "state_size = len(state)\n",
        "print('States have length:', state_size)"
      ]
    },
    {
      "cell_type": "markdown",
      "metadata": {
        "id": "VLc1CdC0ldVJ"
      },
      "source": [
        "# Train the Agent with DQN"
      ]
    },
    {
      "cell_type": "code",
      "execution_count": null,
      "metadata": {
        "id": "b1Qzo-29ldVJ"
      },
      "outputs": [],
      "source": [
        "def dqn(agent, n_episodes=4000, max_t=1000, eps_start=1.0, eps_end=0.01, eps_decay=0.999, train=True):\n",
        "    \"\"\"Deep Q-Learning.\n",
        "\n",
        "    Args\n",
        "        n_episodes (int): maximum number of training episodes\n",
        "        max_t (int): maximum number of timesteps per episode\n",
        "        eps_start (float): starting value of epsilon, for epsilon-greedy action selection\n",
        "        eps_end (float): minimum value of epsilon\n",
        "        eps_decay (float): multiplicative factor (per episode) for decreasing epsilon\n",
        "        train (bool): flag deciding if the agent will train or just play through the episode\n",
        "    \"\"\"\n",
        "    scores = []                        # list containing scores from each episode\n",
        "    scores_window = deque(maxlen=100)  # last 100 scores\n",
        "    eps = eps_start                    # initialize epsilon\n",
        "    for i_episode in range(1, n_episodes+1):\n",
        "        env_info = env.reset(train_mode=train)[brain_name]\n",
        "        state = env_info.vector_observations[0]\n",
        "        score = 0\n",
        "        for t in range(max_t):\n",
        "            action = agent.act(state, eps if train else 0.0)\n",
        "            env_info = env.step(action)[brain_name]\n",
        "            next_state = env_info.vector_observations[0]   # get the next state\n",
        "            reward = env_info.rewards[0]                   # get the reward\n",
        "            done = env_info.local_done[0]                  # see if episode has finished\n",
        "            if train:\n",
        "                agent.step(state, action, reward, next_state, done)\n",
        "            score += reward                                # update the score\n",
        "            state = next_state                             # roll over the state to next time step\n",
        "            if done:                                       # exit loop if episode finished\n",
        "                break\n",
        "        scores_window.append(score)       # save most recent score\n",
        "        scores.append(score)              # save most recent score\n",
        "        eps = max(eps_end, eps_decay*eps) # decrease epsilon\n",
        "        print('\\rEpisode {}\\tAverage Score: {:.2f}'.format(i_episode, np.mean(scores_window)), end=\"\")\n",
        "        if i_episode % 100 == 0:\n",
        "            print('\\rEpisode {}\\tAverage Score: {:.2f}'.format(i_episode, np.mean(scores_window)))\n",
        "        if np.mean(scores_window)>=13.0 and train:\n",
        "            print('\\nEnvironment solved in {:d} episodes!\\tAverage Score: {:.2f}'.format(i_episode-100, np.mean(scores_window)))\n",
        "            torch.save(agent.qnetwork_local.state_dict(), 'checkpoint_dqn.pth')\n",
        "            break\n",
        "    return scores\n",
        "\n",
        "\n",
        "\n",
        "\n",
        "\n",
        "\n",
        "agent = Agent(state_size=state_size, action_size=action_size, seed=0)\n",
        "scores = dqn(agent)\n",
        "\n"
      ]
    },
    {
      "cell_type": "code",
      "execution_count": null,
      "metadata": {
        "id": "9F1w_BWWldVK"
      },
      "outputs": [],
      "source": [
        "fig = plt.figure()\n",
        "ax = fig.add_subplot(111)\n",
        "plt.plot(np.arange(len(scores)), scores)\n",
        "plt.ylabel('Score')\n",
        "plt.xlabel('Episode #')\n",
        "plt.show()\n"
      ]
    },
    {
      "cell_type": "markdown",
      "metadata": {
        "id": "-XbYSt_LldVL"
      },
      "source": [
        "### 3. Take Random Actions in the Environment\n",
        "\n",
        "In the next code cell, you will learn how to use the Python API to control the agent and receive feedback from the environment.\n",
        "\n",
        "Note that **in this coding environment, you will not be able to watch the agent while it is training**, and you should set `train_mode=True` to restart the environment."
      ]
    },
    {
      "cell_type": "code",
      "execution_count": null,
      "metadata": {
        "id": "-IlJgQdlldVL"
      },
      "outputs": [],
      "source": [
        "env_info = env.reset(train_mode=True)[brain_name] # reset the environment\n",
        "state = env_info.vector_observations[0]            # get the current state\n",
        "score = 0                                          # initialize the score\n",
        "while True:\n",
        "    action = np.random.randint(action_size)        # select an action\n",
        "    #action = agent.act(state, eps=0.0)\n",
        "    env_info = env.step(action)[brain_name]        # send the action to the environment\n",
        "    next_state = env_info.vector_observations[0]   # get the next state\n",
        "    reward = env_info.rewards[0]                   # get the reward\n",
        "    done = env_info.local_done[0]                  # see if episode has finished\n",
        "    score += reward                                # update the score\n",
        "    state = next_state                             # roll over the state to next time step\n",
        "    if done:                                       # exit loop if episode finished\n",
        "        break\n",
        "\n",
        "print(\"Score: {}\".format(score))"
      ]
    },
    {
      "cell_type": "markdown",
      "metadata": {
        "id": "dZBKnQOdldVL"
      },
      "source": [
        "### Run the trained agent in Environment"
      ]
    },
    {
      "cell_type": "code",
      "execution_count": null,
      "metadata": {
        "id": "SljZBOG6ldVL"
      },
      "outputs": [],
      "source": [
        "env_info = env.reset(train_mode=True)[brain_name] # reset the environment\n",
        "state = env_info.vector_observations[0]            # get the current state\n",
        "score = 0                                          # initialize the score\n",
        "while True:\n",
        "    #action = np.random.randint(action_size)        # select an action\n",
        "    action = agent.act(state, eps=0.0)\n",
        "    env_info = env.step(action)[brain_name]        # send the action to the environment\n",
        "    next_state = env_info.vector_observations[0]   # get the next state\n",
        "    reward = env_info.rewards[0]                   # get the reward\n",
        "    done = env_info.local_done[0]                  # see if episode has finished\n",
        "    score += reward                                # update the score\n",
        "    state = next_state                             # roll over the state to next time step\n",
        "    if done:                                       # exit loop if episode finished\n",
        "        break\n",
        "\n",
        "print(\"Score: {}\".format(score))"
      ]
    },
    {
      "cell_type": "markdown",
      "metadata": {
        "id": "W4klOIp8ldVM"
      },
      "source": [
        "When finished, you can close the environment."
      ]
    },
    {
      "cell_type": "code",
      "execution_count": null,
      "metadata": {
        "id": "7BeqJhZTldVM"
      },
      "outputs": [],
      "source": [
        "env.close()"
      ]
    },
    {
      "cell_type": "markdown",
      "metadata": {
        "id": "A40XlsJIldVM"
      },
      "source": [
        "### 4. It's Your Turn!\n",
        "\n",
        "Now it's your turn to train your own agent to solve the environment!  A few **important notes**:\n",
        "- When training the environment, set `train_mode=True`, so that the line for resetting the environment looks like the following:\n",
        "```python\n",
        "env_info = env.reset(train_mode=True)[brain_name]\n",
        "```\n",
        "- To structure your work, you're welcome to work directly in this Jupyter notebook, or you might like to start over with a new file!  You can see the list of files in the workspace by clicking on **_Jupyter_** in the top left corner of the notebook.\n",
        "- In this coding environment, you will not be able to watch the agent while it is training.  However, **_after training the agent_**, you can download the saved model weights to watch the agent on your own machine!"
      ]
    }
  ],
  "metadata": {
    "kernelspec": {
      "display_name": "Python 3",
      "language": "python",
      "name": "python3"
    },
    "language_info": {
      "codemirror_mode": {
        "name": "ipython",
        "version": 3
      },
      "file_extension": ".py",
      "mimetype": "text/x-python",
      "name": "python",
      "nbconvert_exporter": "python",
      "pygments_lexer": "ipython3",
      "version": "3.6.3"
    },
    "colab": {
      "provenance": []
    }
  },
  "nbformat": 4,
  "nbformat_minor": 0
}