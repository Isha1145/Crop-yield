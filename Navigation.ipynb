{
  "cells": [
    {
      "cell_type": "code",
      "execution_count": 12,
      "metadata": {
        "colab": {
          "base_uri": "https://localhost:8080/"
        },
        "id": "Xcg5S0HRqnph",
        "outputId": "d89ef16f-a5c1-42a1-89f3-7a55d3e58d5c"
      },
      "outputs": [
        {
          "output_type": "stream",
          "name": "stdout",
          "text": [
            "Requirement already satisfied: pip in /usr/local/lib/python3.11/dist-packages (25.1.1)\n",
            "Requirement already satisfied: setuptools in /usr/local/lib/python3.11/dist-packages (80.9.0)\n",
            "Requirement already satisfied: wheel in /usr/local/lib/python3.11/dist-packages (0.45.1)\n",
            "Hit:1 https://cloud.r-project.org/bin/linux/ubuntu jammy-cran40/ InRelease\n",
            "Hit:2 http://security.ubuntu.com/ubuntu jammy-security InRelease\n",
            "Hit:3 https://developer.download.nvidia.com/compute/cuda/repos/ubuntu2204/x86_64  InRelease\n",
            "Hit:4 http://archive.ubuntu.com/ubuntu jammy InRelease\n",
            "Hit:5 https://r2u.stat.illinois.edu/ubuntu jammy InRelease\n",
            "Hit:6 http://archive.ubuntu.com/ubuntu jammy-updates InRelease\n",
            "Hit:7 http://archive.ubuntu.com/ubuntu jammy-backports InRelease\n",
            "Hit:8 https://ppa.launchpadcontent.net/deadsnakes/ppa/ubuntu jammy InRelease\n",
            "Hit:9 https://ppa.launchpadcontent.net/graphics-drivers/ppa/ubuntu jammy InRelease\n",
            "Hit:10 https://ppa.launchpadcontent.net/ubuntugis/ppa/ubuntu jammy InRelease\n",
            "Reading package lists... Done\n",
            "W: Skipping acquire of configured file 'main/source/Sources' as repository 'https://r2u.stat.illinois.edu/ubuntu jammy InRelease' does not seem to provide it (sources.list entry misspelt?)\n",
            "Reading package lists... Done\n",
            "Building dependency tree... Done\n",
            "Reading state information... Done\n",
            "build-essential is already the newest version (12.9ubuntu3).\n",
            "python3-dev is already the newest version (3.10.6-1~22.04.1).\n",
            "0 upgraded, 0 newly installed, 0 to remove and 35 not upgraded.\n",
            "Requirement already satisfied: protobuf==3.20.3 in /usr/local/lib/python3.11/dist-packages (3.20.3)\n",
            "Files removed: 74 (11.3 MB)\n",
            "Collecting mlagents\n",
            "  Downloading mlagents-0.28.0-py3-none-any.whl.metadata (2.5 kB)\n",
            "Requirement already satisfied: grpcio>=1.11.0 in /usr/local/lib/python3.11/dist-packages (from mlagents) (1.72.1)\n",
            "Requirement already satisfied: h5py>=2.9.0 in /usr/local/lib/python3.11/dist-packages (from mlagents) (3.13.0)\n",
            "Requirement already satisfied: mlagents-envs==0.28.0 in /usr/local/lib/python3.11/dist-packages (from mlagents) (0.28.0)\n",
            "Collecting numpy<2.0,>=1.13.3 (from mlagents)\n",
            "  Downloading numpy-1.26.4-cp311-cp311-manylinux_2_17_x86_64.manylinux2014_x86_64.whl.metadata (61 kB)\n",
            "Requirement already satisfied: Pillow>=4.2.1 in /usr/local/lib/python3.11/dist-packages (from mlagents) (11.2.1)\n",
            "Requirement already satisfied: protobuf>=3.6 in /usr/local/lib/python3.11/dist-packages (from mlagents) (3.20.3)\n",
            "Requirement already satisfied: pyyaml>=3.1.0 in /usr/local/lib/python3.11/dist-packages (from mlagents) (6.0.2)\n",
            "Requirement already satisfied: tensorboard>=1.15 in /usr/local/lib/python3.11/dist-packages (from mlagents) (2.18.0)\n",
            "Requirement already satisfied: attrs>=19.3.0 in /usr/local/lib/python3.11/dist-packages (from mlagents) (25.3.0)\n",
            "INFO: pip is looking at multiple versions of mlagents to determine which version is compatible with other requirements. This could take a while.\n",
            "Collecting mlagents\n",
            "  Downloading mlagents-0.27.0-py3-none-any.whl.metadata (2.5 kB)\n",
            "Collecting mlagents-envs==0.27.0 (from mlagents)\n",
            "  Downloading mlagents_envs-0.27.0-py3-none-any.whl.metadata (816 bytes)\n",
            "Collecting mlagents\n",
            "  Downloading mlagents-0.26.0-py3-none-any.whl.metadata (2.5 kB)\n",
            "Collecting mlagents-envs==0.26.0 (from mlagents)\n",
            "  Downloading mlagents_envs-0.26.0-py3-none-any.whl.metadata (816 bytes)\n",
            "Collecting mlagents\n",
            "  Downloading mlagents-0.25.1-py3-none-any.whl.metadata (2.5 kB)\n",
            "Collecting mlagents-envs==0.25.1 (from mlagents)\n",
            "  Downloading mlagents_envs-0.25.1-py3-none-any.whl.metadata (816 bytes)\n",
            "Collecting mlagents\n",
            "  Downloading mlagents-0.25.0-py3-none-any.whl.metadata (2.5 kB)\n",
            "Collecting mlagents-envs==0.25.0 (from mlagents)\n",
            "  Downloading mlagents_envs-0.25.0-py3-none-any.whl.metadata (816 bytes)\n",
            "Collecting mlagents\n",
            "  Downloading mlagents-0.24.1-py3-none-any.whl.metadata (2.4 kB)\n",
            "Collecting mlagents-envs==0.24.1 (from mlagents)\n",
            "  Downloading mlagents_envs-0.24.1-py3-none-any.whl.metadata (816 bytes)\n",
            "Collecting mlagents\n",
            "  Downloading mlagents-0.24.0-py3-none-any.whl.metadata (2.3 kB)\n",
            "Collecting mlagents-envs==0.24.0 (from mlagents)\n",
            "  Downloading mlagents_envs-0.24.0-py3-none-any.whl.metadata (816 bytes)\n",
            "Collecting cattrs<1.1.0,>=1.0.0 (from mlagents)\n",
            "  Downloading cattrs-1.0.0-py2.py3-none-any.whl.metadata (11 kB)\n",
            "Collecting mlagents\n",
            "  Downloading mlagents-0.23.0-py3-none-any.whl.metadata (2.4 kB)\n",
            "Collecting mlagents-envs==0.23.0 (from mlagents)\n",
            "  Downloading mlagents_envs-0.23.0-py3-none-any.whl.metadata (824 bytes)\n",
            "INFO: pip is still looking at multiple versions of mlagents to determine which version is compatible with other requirements. This could take a while.\n",
            "Collecting mlagents\n",
            "  Downloading mlagents-0.22.0-py3-none-any.whl.metadata (2.4 kB)\n",
            "Collecting mlagents-envs==0.22.0 (from mlagents)\n",
            "  Downloading mlagents_envs-0.22.0-py3-none-any.whl.metadata (774 bytes)\n",
            "Collecting mlagents\n",
            "  Downloading mlagents-0.21.1-py3-none-any.whl.metadata (2.3 kB)\n",
            "Collecting mlagents-envs==0.21.1 (from mlagents)\n",
            "  Downloading mlagents_envs-0.21.1-py3-none-any.whl.metadata (774 bytes)\n",
            "Requirement already satisfied: tensorflow<3.0,>=1.14 in /usr/local/lib/python3.11/dist-packages (from mlagents) (2.18.0)\n",
            "Requirement already satisfied: six>=1.12.0 in /usr/local/lib/python3.11/dist-packages (from mlagents) (1.17.0)\n",
            "Requirement already satisfied: cloudpickle in /usr/local/lib/python3.11/dist-packages (from mlagents-envs==0.21.1->mlagents) (3.1.1)\n",
            "Collecting numpy<2.0,>=1.13.3 (from mlagents)\n",
            "  Downloading numpy-1.18.5.zip (5.4 MB)\n",
            "\u001b[2K     \u001b[90m━━━━━━━━━━━━━━━━━━━━━━━━━━━━━━━━━━━━━━━━\u001b[0m \u001b[32m5.4/5.4 MB\u001b[0m \u001b[31m62.5 MB/s\u001b[0m eta \u001b[36m0:00:00\u001b[0m\n",
            "\u001b[?25h  Installing build dependencies ... \u001b[?25l\u001b[?25hdone\n",
            "  Getting requirements to build wheel ... \u001b[?25l\u001b[?25hdone\n",
            "  \u001b[1;31merror\u001b[0m: \u001b[1msubprocess-exited-with-error\u001b[0m\n",
            "  \n",
            "  \u001b[31m×\u001b[0m \u001b[32mPreparing metadata \u001b[0m\u001b[1;32m(\u001b[0m\u001b[32mpyproject.toml\u001b[0m\u001b[1;32m)\u001b[0m did not run successfully.\n",
            "  \u001b[31m│\u001b[0m exit code: \u001b[1;36m1\u001b[0m\n",
            "  \u001b[31m╰─>\u001b[0m See above for output.\n",
            "  \n",
            "  \u001b[1;35mnote\u001b[0m: This error originates from a subprocess, and is likely not a problem with pip.\n",
            "  Preparing metadata (pyproject.toml) ... \u001b[?25l\u001b[?25herror\n",
            "\u001b[1;31merror\u001b[0m: \u001b[1mmetadata-generation-failed\u001b[0m\n",
            "\n",
            "\u001b[31m×\u001b[0m Encountered error while generating package metadata.\n",
            "\u001b[31m╰─>\u001b[0m See above for output.\n",
            "\n",
            "\u001b[1;35mnote\u001b[0m: This is an issue with the package mentioned above, not pip.\n",
            "\u001b[1;36mhint\u001b[0m: See above for details.\n",
            "Using pip 25.1.1 from /usr/local/lib/python3.11/dist-packages/pip (python 3.11)\n",
            "Non-user install because site-packages writeable\n",
            "Created temporary directory: /tmp/pip-build-tracker-y8h_wjre\n",
            "Initialized build tracking at /tmp/pip-build-tracker-y8h_wjre\n",
            "Created build tracker: /tmp/pip-build-tracker-y8h_wjre\n",
            "Entered build tracker: /tmp/pip-build-tracker-y8h_wjre\n",
            "Created temporary directory: /tmp/pip-install-j94jqks8\n",
            "Created temporary directory: /tmp/pip-ephem-wheel-cache-aymq8lmv\n",
            "Requirement already satisfied: mlagents_envs in /usr/local/lib/python3.11/dist-packages (0.28.0)\n",
            "Requirement already satisfied: cloudpickle in /usr/local/lib/python3.11/dist-packages (from mlagents_envs) (3.1.1)\n",
            "Requirement already satisfied: grpcio>=1.11.0 in /usr/local/lib/python3.11/dist-packages (from mlagents_envs) (1.72.1)\n",
            "Requirement already satisfied: numpy>=1.14.1 in /usr/local/lib/python3.11/dist-packages (from mlagents_envs) (2.0.2)\n",
            "Requirement already satisfied: Pillow>=4.2.1 in /usr/local/lib/python3.11/dist-packages (from mlagents_envs) (11.2.1)\n",
            "Requirement already satisfied: protobuf>=3.6 in /usr/local/lib/python3.11/dist-packages (from mlagents_envs) (3.20.3)\n",
            "Requirement already satisfied: pyyaml>=3.1.0 in /usr/local/lib/python3.11/dist-packages (from mlagents_envs) (6.0.2)\n",
            "Created temporary directory: /tmp/pip-unpack-7iylkpzy\n",
            "Removed build tracker: '/tmp/pip-build-tracker-y8h_wjre'\n"
          ]
        }
      ],
      "source": [
        "!pip install --upgrade pip setuptools wheel\n",
        "!apt-get update && apt-get install -y build-essential python3-dev\n",
        "# Downgrade protobuf to a compatible version\n",
        "!pip install protobuf==3.20.3\n",
        "!pip cache purge\n",
        "!pip install mlagents\n",
        "!pip install mlagents_envs --no-build-isolation -vvv"
      ]
    },
    {
      "cell_type": "markdown",
      "metadata": {
        "id": "8JunkLHoqnpi"
      },
      "source": [
        "# Load Neccessary Packages"
      ]
    },
    {
      "cell_type": "code",
      "execution_count": 13,
      "metadata": {
        "scrolled": true,
        "colab": {
          "base_uri": "https://localhost:8080/"
        },
        "id": "Ja2gcGY_qnpj",
        "outputId": "7560e4a5-9352-4c04-af7e-71a1c94861e9"
      },
      "outputs": [
        {
          "output_type": "stream",
          "name": "stdout",
          "text": [
            "✅ mlagents_envs installed!\n"
          ]
        }
      ],
      "source": [
        "from mlagents_envs.environment import UnityEnvironment\n",
        "print(\"✅ mlagents_envs installed!\")\n",
        "import numpy as np\n",
        "import numpy as np\n",
        "import random\n",
        "from collections import namedtuple, deque\n",
        "#from model import QNetwork\n",
        "import torch\n",
        "import torch.nn.functional as F\n",
        "import torch.optim as optim\n",
        "import torch.nn as nn\n",
        "import torch.nn.functional as F\n",
        "import matplotlib.pyplot as plt"
      ]
    },
    {
      "cell_type": "markdown",
      "metadata": {
        "id": "Dq3CifHVqnpj"
      },
      "source": [
        "# Define the QNetwork\n",
        "\n",
        "####  In the following section, we design the q-network to approximate the value function\n",
        "\n"
      ]
    },
    {
      "cell_type": "code",
      "execution_count": 14,
      "metadata": {
        "id": "NBp_zc28qnpk"
      },
      "outputs": [],
      "source": [
        "class QNetwork(nn.Module):\n",
        "    \"\"\"Actor (Policy) Model.\"\"\"\n",
        "\n",
        "    def __init__(self, state_size, action_size, seed, fc1_units=40, fc2_units=40,fc3_units=40):\n",
        "        \"\"\"Initialize parameters and build model.\n",
        "        Params\n",
        "        ======\n",
        "            state_size (int): Dimension of each state\n",
        "            action_size (int): Dimension of each action\n",
        "            seed (int): Random seed\n",
        "            fc1_units (int): Number of nodes in first hidden layer\n",
        "            fc2_units (int): Number of nodes in second hidden layer\n",
        "        \"\"\"\n",
        "        super(QNetwork, self).__init__()\n",
        "        self.seed = torch.manual_seed(seed)\n",
        "        self.fc1 = nn.Linear(state_size, fc1_units)\n",
        "        self.fc2 = nn.Linear(fc1_units, fc2_units)\n",
        "        self.fc3 = nn.Linear(fc2_units, fc3_units)\n",
        "        self.fc4=nn.Linear(fc3_units,action_size)\n",
        "\n",
        "    def forward(self, state):\n",
        "        \"\"\"Build a network that maps state -> action values.\"\"\"\n",
        "        x = F.relu(self.fc1(state))\n",
        "        x = F.relu(self.fc2(x))\n",
        "        x=F.relu(self.fc3(x))\n",
        "        return self.fc4(x)\n"
      ]
    },
    {
      "cell_type": "markdown",
      "metadata": {
        "id": "IMM2DSAJqnpk"
      },
      "source": [
        "# DQN Function"
      ]
    },
    {
      "cell_type": "code",
      "execution_count": 15,
      "metadata": {
        "id": "m9XoMxnIqnpk"
      },
      "outputs": [],
      "source": [
        "BUFFER_SIZE = int(1e5)  # replay buffer size\n",
        "BATCH_SIZE = 32         # minibatch size\n",
        "GAMMA = 0.99            # discount factor\n",
        "TAU = 1e-3              # for soft update of target parameters\n",
        "LR = 5e-4               # learning rate\n",
        "UPDATE_EVERY = 8        # how often to update the network\n",
        "\n",
        "device = torch.device(\"cuda:0\" if torch.cuda.is_available() else \"cpu\")\n",
        "\n",
        "class Agent():\n",
        "    \"\"\"Interacts with and learns from the environment.\"\"\"\n",
        "\n",
        "    def __init__(self, state_size, action_size, seed):\n",
        "        \"\"\"Initialize an Agent object.\n",
        "\n",
        "        Params\n",
        "        ======\n",
        "            state_size (int): dimension of each state\n",
        "            action_size (int): dimension of each action\n",
        "            seed (int): random seed\n",
        "        \"\"\"\n",
        "        self.state_size = state_size\n",
        "        self.action_size = action_size\n",
        "        self.seed = random.seed(seed)\n",
        "\n",
        "        # Q-Network\n",
        "        self.qnetwork_local = QNetwork(state_size, action_size, seed).to(device)\n",
        "        self.qnetwork_target = QNetwork(state_size, action_size, seed).to(device)\n",
        "        self.optimizer = optim.Adam(self.qnetwork_local.parameters(), lr=LR)\n",
        "\n",
        "        # Replay memory\n",
        "        self.memory = ReplayBuffer(action_size, BUFFER_SIZE, BATCH_SIZE, seed)\n",
        "        # Initialize time step (for updating every UPDATE_EVERY steps)\n",
        "        self.t_step = 0\n",
        "\n",
        "    def step(self, state, action, reward, next_state, done):\n",
        "        # Save experience in replay memory\n",
        "        self.memory.add(state, action, reward, next_state, done)\n",
        "\n",
        "        # Learn every UPDATE_EVERY time steps.\n",
        "        self.t_step = (self.t_step + 1) % UPDATE_EVERY\n",
        "        if self.t_step == 0:\n",
        "            # If enough samples are available in memory, get random subset and learn\n",
        "            if len(self.memory) > BATCH_SIZE:\n",
        "                experiences = self.memory.sample()\n",
        "                self.learn(experiences, GAMMA)\n",
        "\n",
        "    def act(self, state, eps=0.):\n",
        "        \"\"\"Returns actions for given state as per current policy.\n",
        "\n",
        "        Params\n",
        "        ======\n",
        "            state (array_like): current state\n",
        "            eps (float): epsilon, for epsilon-greedy action selection\n",
        "        \"\"\"\n",
        "        state = torch.from_numpy(state).float().unsqueeze(0).to(device)\n",
        "        self.qnetwork_local.eval()\n",
        "        with torch.no_grad():\n",
        "            action_values = self.qnetwork_local(state)\n",
        "        self.qnetwork_local.train()\n",
        "\n",
        "        # Epsilon-greedy action selection\n",
        "        if random.random() > eps:\n",
        "            return np.argmax(action_values.cpu().data.numpy())\n",
        "        else:\n",
        "            return random.choice(np.arange(self.action_size))\n",
        "\n",
        "    def learn(self, experiences, gamma):\n",
        "        \"\"\"Update value parameters using given batch of experience tuples.\n",
        "\n",
        "        Params\n",
        "        ======\n",
        "            experiences (Tuple[torch.Variable]): tuple of (s, a, r, s', done) tuples\n",
        "            gamma (float): discount factor\n",
        "        \"\"\"\n",
        "        states, actions, rewards, next_states, dones = experiences\n",
        "\n",
        "        # Get max predicted Q values (for next states) from target model\n",
        "        Q_targets_next = self.qnetwork_target(next_states).detach().max(1)[0].unsqueeze(1)\n",
        "        # Compute Q targets for current states\n",
        "        Q_targets = rewards + (gamma * Q_targets_next * (1 - dones))\n",
        "\n",
        "        # Get expected Q values from local model\n",
        "        Q_expected = self.qnetwork_local(states).gather(1, actions)\n",
        "\n",
        "        # Compute loss\n",
        "        loss = F.mse_loss(Q_expected, Q_targets)\n",
        "        # Minimize the loss\n",
        "        self.optimizer.zero_grad()\n",
        "        loss.backward()\n",
        "        self.optimizer.step()\n",
        "\n",
        "        # ------------------- update target network ------------------- #\n",
        "        self.soft_update(self.qnetwork_local, self.qnetwork_target, TAU)\n",
        "\n",
        "    def soft_update(self, local_model, target_model, tau):\n",
        "        \"\"\"Soft update model parameters.\n",
        "        θ_target = τ*θ_local + (1 - τ)*θ_target\n",
        "\n",
        "        Params\n",
        "        ======\n",
        "            local_model (PyTorch model): weights will be copied from\n",
        "            target_model (PyTorch model): weights will be copied to\n",
        "            tau (float): interpolation parameter\n",
        "        \"\"\"\n",
        "        for target_param, local_param in zip(target_model.parameters(), local_model.parameters()):\n",
        "            target_param.data.copy_(tau*local_param.data + (1.0-tau)*target_param.data)\n",
        "\n",
        "\n",
        "class ReplayBuffer:\n",
        "    \"\"\"Fixed-size buffer to store experience tuples.\"\"\"\n",
        "\n",
        "    def __init__(self, action_size, buffer_size, batch_size, seed):\n",
        "        \"\"\"Initialize a ReplayBuffer object.\n",
        "\n",
        "        Params\n",
        "        ======\n",
        "            action_size (int): dimension of each action\n",
        "            buffer_size (int): maximum size of buffer\n",
        "            batch_size (int): size of each training batch\n",
        "            seed (int): random seed\n",
        "        \"\"\"\n",
        "        self.action_size = action_size\n",
        "        self.memory = deque(maxlen=buffer_size)\n",
        "        self.batch_size = batch_size\n",
        "        self.experience = namedtuple(\"Experience\", field_names=[\"state\", \"action\", \"reward\", \"next_state\", \"done\"])\n",
        "        self.seed = random.seed(seed)\n",
        "\n",
        "    def add(self, state, action, reward, next_state, done):\n",
        "        \"\"\"Add a new experience to memory.\"\"\"\n",
        "        e = self.experience(state, action, reward, next_state, done)\n",
        "        self.memory.append(e)\n",
        "\n",
        "    def sample(self):\n",
        "        \"\"\"Randomly sample a batch of experiences from memory.\"\"\"\n",
        "        experiences = random.sample(self.memory, k=self.batch_size)\n",
        "\n",
        "        states = torch.from_numpy(np.vstack([e.state for e in experiences if e is not None])).float().to(device)\n",
        "        actions = torch.from_numpy(np.vstack([e.action for e in experiences if e is not None])).long().to(device)\n",
        "        rewards = torch.from_numpy(np.vstack([e.reward for e in experiences if e is not None])).float().to(device)\n",
        "        next_states = torch.from_numpy(np.vstack([e.next_state for e in experiences if e is not None])).float().to(device)\n",
        "        dones = torch.from_numpy(np.vstack([e.done for e in experiences if e is not None]).astype(np.uint8)).float().to(device)\n",
        "\n",
        "        return (states, actions, rewards, next_states, dones)\n",
        "\n",
        "    def __len__(self):\n",
        "        \"\"\"Return the current size of internal memory.\"\"\"\n",
        "        return len(self.memory)"
      ]
    },
    {
      "cell_type": "markdown",
      "metadata": {
        "id": "fh0tT3Inqnpl"
      },
      "source": [
        "The environment is already saved in the Workspace and can be accessed at the file path provided below.  Please run the next code cell without making any changes."
      ]
    },
    {
      "cell_type": "code",
      "execution_count": 19,
      "metadata": {
        "colab": {
          "base_uri": "https://localhost:8080/",
          "height": 339
        },
        "id": "MtDqtLFSqnpl",
        "outputId": "1395bfc4-4ab8-4d3a-9e53-23de7ccd2deb"
      },
      "outputs": [
        {
          "output_type": "error",
          "ename": "UnityEnvironmentException",
          "evalue": "Couldn't launch the /data/Banana_Linux_NoVis/Banana.x86_64 environment. Provided filename does not match any environments.",
          "traceback": [
            "\u001b[0;31m---------------------------------------------------------------------------\u001b[0m",
            "\u001b[0;31mUnityEnvironmentException\u001b[0m                 Traceback (most recent call last)",
            "\u001b[0;32m<ipython-input-19-682434619>\u001b[0m in \u001b[0;36m<cell line: 0>\u001b[0;34m()\u001b[0m\n\u001b[1;32m      1\u001b[0m \u001b[0;31m# please do not modify the line below\u001b[0m\u001b[0;34m\u001b[0m\u001b[0;34m\u001b[0m\u001b[0m\n\u001b[0;32m----> 2\u001b[0;31m \u001b[0menv\u001b[0m \u001b[0;34m=\u001b[0m \u001b[0mUnityEnvironment\u001b[0m\u001b[0;34m(\u001b[0m\u001b[0mfile_name\u001b[0m\u001b[0;34m=\u001b[0m\u001b[0;34m\"/data/Banana_Linux_NoVis/Banana.x86_64\"\u001b[0m\u001b[0;34m)\u001b[0m\u001b[0;34m\u001b[0m\u001b[0;34m\u001b[0m\u001b[0m\n\u001b[0m",
            "\u001b[0;32m/usr/local/lib/python3.11/dist-packages/mlagents_envs/environment.py\u001b[0m in \u001b[0;36m__init__\u001b[0;34m(self, file_name, worker_id, base_port, seed, no_graphics, timeout_wait, additional_args, side_channels, log_folder, num_areas)\u001b[0m\n\u001b[1;32m    213\u001b[0m         \u001b[0;32mif\u001b[0m \u001b[0mfile_name\u001b[0m \u001b[0;32mis\u001b[0m \u001b[0;32mnot\u001b[0m \u001b[0;32mNone\u001b[0m\u001b[0;34m:\u001b[0m\u001b[0;34m\u001b[0m\u001b[0;34m\u001b[0m\u001b[0m\n\u001b[1;32m    214\u001b[0m             \u001b[0;32mtry\u001b[0m\u001b[0;34m:\u001b[0m\u001b[0;34m\u001b[0m\u001b[0;34m\u001b[0m\u001b[0m\n\u001b[0;32m--> 215\u001b[0;31m                 self._process = env_utils.launch_executable(\n\u001b[0m\u001b[1;32m    216\u001b[0m                     \u001b[0mfile_name\u001b[0m\u001b[0;34m,\u001b[0m \u001b[0mself\u001b[0m\u001b[0;34m.\u001b[0m\u001b[0m_executable_args\u001b[0m\u001b[0;34m(\u001b[0m\u001b[0;34m)\u001b[0m\u001b[0;34m\u001b[0m\u001b[0;34m\u001b[0m\u001b[0m\n\u001b[1;32m    217\u001b[0m                 )\n",
            "\u001b[0;32m/usr/local/lib/python3.11/dist-packages/mlagents_envs/env_utils.py\u001b[0m in \u001b[0;36mlaunch_executable\u001b[0;34m(file_name, args)\u001b[0m\n\u001b[1;32m     99\u001b[0m     \u001b[0mlaunch_string\u001b[0m \u001b[0;34m=\u001b[0m \u001b[0mvalidate_environment_path\u001b[0m\u001b[0;34m(\u001b[0m\u001b[0mfile_name\u001b[0m\u001b[0;34m)\u001b[0m\u001b[0;34m\u001b[0m\u001b[0;34m\u001b[0m\u001b[0m\n\u001b[1;32m    100\u001b[0m     \u001b[0;32mif\u001b[0m \u001b[0mlaunch_string\u001b[0m \u001b[0;32mis\u001b[0m \u001b[0;32mNone\u001b[0m\u001b[0;34m:\u001b[0m\u001b[0;34m\u001b[0m\u001b[0;34m\u001b[0m\u001b[0m\n\u001b[0;32m--> 101\u001b[0;31m         raise UnityEnvironmentException(\n\u001b[0m\u001b[1;32m    102\u001b[0m             \u001b[0;34mf\"Couldn't launch the {file_name} environment. Provided filename does not match any environments.\"\u001b[0m\u001b[0;34m\u001b[0m\u001b[0;34m\u001b[0m\u001b[0m\n\u001b[1;32m    103\u001b[0m         )\n",
            "\u001b[0;31mUnityEnvironmentException\u001b[0m: Couldn't launch the /data/Banana_Linux_NoVis/Banana.x86_64 environment. Provided filename does not match any environments."
          ]
        }
      ],
      "source": [
        "pip install mlagents\n",
        "git clone https://github.com/Unity-Technologies/ml-agents.git\n",
        "cd ml-agents\n",
        "# please do not modify the line below\n",
        "env = UnityEnvironment(file_name=\"/data/Banana_Linux_NoVis/Banana.x86_64\")"
      ]
    },
    {
      "cell_type": "markdown",
      "metadata": {
        "id": "yjQFXR7Lqnpm"
      },
      "source": [
        "Environments contain **_brains_** which are responsible for deciding the actions of their associated agents. Here we check for the first brain available, and set it as the default brain we will be controlling from Python."
      ]
    },
    {
      "cell_type": "code",
      "execution_count": null,
      "metadata": {
        "id": "fiCUmhwOqnpm"
      },
      "outputs": [],
      "source": [
        "# get the default brain\n",
        "brain_name = env.brain_names[0]\n",
        "brain = env.brains[brain_name]"
      ]
    },
    {
      "cell_type": "markdown",
      "metadata": {
        "id": "4oDD5UNqqnpn"
      },
      "source": [
        "### 2. Examine the State and Action Spaces\n",
        "\n",
        "Run the code cell below to print some information about the environment."
      ]
    },
    {
      "cell_type": "code",
      "execution_count": null,
      "metadata": {
        "id": "GSAARZMuqnpn"
      },
      "outputs": [],
      "source": [
        "# reset the environment\n",
        "env_info = env.reset(train_mode=True)[brain_name]\n",
        "\n",
        "# number of agents in the environment\n",
        "print('Number of agents:', len(env_info.agents))\n",
        "\n",
        "# number of actions\n",
        "action_size = brain.vector_action_space_size\n",
        "print('Number of actions:', action_size)\n",
        "\n",
        "# examine the state space\n",
        "state = env_info.vector_observations[0]\n",
        "print('States look like:', state)\n",
        "state_size = len(state)\n",
        "print('States have length:', state_size)"
      ]
    },
    {
      "cell_type": "markdown",
      "metadata": {
        "id": "tPWR_oaQqnpn"
      },
      "source": [
        "# Train the Agent with DQN"
      ]
    },
    {
      "cell_type": "code",
      "execution_count": null,
      "metadata": {
        "id": "aTKZqqheqnpn"
      },
      "outputs": [],
      "source": [
        "def dqn(agent, n_episodes=4000, max_t=1000, eps_start=1.0, eps_end=0.01, eps_decay=0.999, train=True):\n",
        "    \"\"\"Deep Q-Learning.\n",
        "\n",
        "    Args\n",
        "        n_episodes (int): maximum number of training episodes\n",
        "        max_t (int): maximum number of timesteps per episode\n",
        "        eps_start (float): starting value of epsilon, for epsilon-greedy action selection\n",
        "        eps_end (float): minimum value of epsilon\n",
        "        eps_decay (float): multiplicative factor (per episode) for decreasing epsilon\n",
        "        train (bool): flag deciding if the agent will train or just play through the episode\n",
        "    \"\"\"\n",
        "    scores = []                        # list containing scores from each episode\n",
        "    scores_window = deque(maxlen=100)  # last 100 scores\n",
        "    eps = eps_start                    # initialize epsilon\n",
        "    for i_episode in range(1, n_episodes+1):\n",
        "        env_info = env.reset(train_mode=train)[brain_name]\n",
        "        state = env_info.vector_observations[0]\n",
        "        score = 0\n",
        "        for t in range(max_t):\n",
        "            action = agent.act(state, eps if train else 0.0)\n",
        "            env_info = env.step(action)[brain_name]\n",
        "            next_state = env_info.vector_observations[0]   # get the next state\n",
        "            reward = env_info.rewards[0]                   # get the reward\n",
        "            done = env_info.local_done[0]                  # see if episode has finished\n",
        "            if train:\n",
        "                agent.step(state, action, reward, next_state, done)\n",
        "            score += reward                                # update the score\n",
        "            state = next_state                             # roll over the state to next time step\n",
        "            if done:                                       # exit loop if episode finished\n",
        "                break\n",
        "        scores_window.append(score)       # save most recent score\n",
        "        scores.append(score)              # save most recent score\n",
        "        eps = max(eps_end, eps_decay*eps) # decrease epsilon\n",
        "        print('\\rEpisode {}\\tAverage Score: {:.2f}'.format(i_episode, np.mean(scores_window)), end=\"\")\n",
        "        if i_episode % 100 == 0:\n",
        "            print('\\rEpisode {}\\tAverage Score: {:.2f}'.format(i_episode, np.mean(scores_window)))\n",
        "        if np.mean(scores_window)>=13.0 and train:\n",
        "            print('\\nEnvironment solved in {:d} episodes!\\tAverage Score: {:.2f}'.format(i_episode-100, np.mean(scores_window)))\n",
        "            torch.save(agent.qnetwork_local.state_dict(), 'checkpoint_dqn.pth')\n",
        "            break\n",
        "    return scores\n",
        "\n",
        "\n",
        "\n",
        "\n",
        "\n",
        "\n",
        "agent = Agent(state_size=state_size, action_size=action_size, seed=0)\n",
        "scores = dqn(agent)\n",
        "\n"
      ]
    },
    {
      "cell_type": "code",
      "execution_count": null,
      "metadata": {
        "id": "x5FWSbYHqnpn"
      },
      "outputs": [],
      "source": [
        "fig = plt.figure()\n",
        "ax = fig.add_subplot(111)\n",
        "plt.plot(np.arange(len(scores)), scores)\n",
        "plt.ylabel('Score')\n",
        "plt.xlabel('Episode #')\n",
        "plt.show()\n"
      ]
    },
    {
      "cell_type": "markdown",
      "metadata": {
        "id": "0EXB9MFeqnpo"
      },
      "source": [
        "### 3. Take Random Actions in the Environment\n",
        "\n",
        "In the next code cell, you will learn how to use the Python API to control the agent and receive feedback from the environment.\n",
        "\n",
        "Note that **in this coding environment, you will not be able to watch the agent while it is training**, and you should set `train_mode=True` to restart the environment."
      ]
    },
    {
      "cell_type": "code",
      "execution_count": null,
      "metadata": {
        "id": "V49cpHJkqnpo"
      },
      "outputs": [],
      "source": [
        "env_info = env.reset(train_mode=True)[brain_name] # reset the environment\n",
        "state = env_info.vector_observations[0]            # get the current state\n",
        "score = 0                                          # initialize the score\n",
        "while True:\n",
        "    action = np.random.randint(action_size)        # select an action\n",
        "    #action = agent.act(state, eps=0.0)\n",
        "    env_info = env.step(action)[brain_name]        # send the action to the environment\n",
        "    next_state = env_info.vector_observations[0]   # get the next state\n",
        "    reward = env_info.rewards[0]                   # get the reward\n",
        "    done = env_info.local_done[0]                  # see if episode has finished\n",
        "    score += reward                                # update the score\n",
        "    state = next_state                             # roll over the state to next time step\n",
        "    if done:                                       # exit loop if episode finished\n",
        "        break\n",
        "\n",
        "print(\"Score: {}\".format(score))"
      ]
    },
    {
      "cell_type": "markdown",
      "metadata": {
        "id": "iFUQFXf3qnpo"
      },
      "source": [
        "### Run the trained agent in Environment"
      ]
    },
    {
      "cell_type": "code",
      "execution_count": null,
      "metadata": {
        "id": "-V5nUhpYqnpo"
      },
      "outputs": [],
      "source": [
        "env_info = env.reset(train_mode=True)[brain_name] # reset the environment\n",
        "state = env_info.vector_observations[0]            # get the current state\n",
        "score = 0                                          # initialize the score\n",
        "while True:\n",
        "    #action = np.random.randint(action_size)        # select an action\n",
        "    action = agent.act(state, eps=0.0)\n",
        "    env_info = env.step(action)[brain_name]        # send the action to the environment\n",
        "    next_state = env_info.vector_observations[0]   # get the next state\n",
        "    reward = env_info.rewards[0]                   # get the reward\n",
        "    done = env_info.local_done[0]                  # see if episode has finished\n",
        "    score += reward                                # update the score\n",
        "    state = next_state                             # roll over the state to next time step\n",
        "    if done:                                       # exit loop if episode finished\n",
        "        break\n",
        "\n",
        "print(\"Score: {}\".format(score))"
      ]
    },
    {
      "cell_type": "markdown",
      "metadata": {
        "id": "EuzNK_kYqnpp"
      },
      "source": [
        "When finished, you can close the environment."
      ]
    },
    {
      "cell_type": "code",
      "execution_count": null,
      "metadata": {
        "id": "Q6YnH6ozqnpp"
      },
      "outputs": [],
      "source": [
        "env.close()"
      ]
    },
    {
      "cell_type": "markdown",
      "metadata": {
        "id": "cKz1-Xzyqnpp"
      },
      "source": [
        "### 4. It's Your Turn!\n",
        "\n",
        "Now it's your turn to train your own agent to solve the environment!  A few **important notes**:\n",
        "- When training the environment, set `train_mode=True`, so that the line for resetting the environment looks like the following:\n",
        "```python\n",
        "env_info = env.reset(train_mode=True)[brain_name]\n",
        "```\n",
        "- To structure your work, you're welcome to work directly in this Jupyter notebook, or you might like to start over with a new file!  You can see the list of files in the workspace by clicking on **_Jupyter_** in the top left corner of the notebook.\n",
        "- In this coding environment, you will not be able to watch the agent while it is training.  However, **_after training the agent_**, you can download the saved model weights to watch the agent on your own machine!"
      ]
    }
  ],
  "metadata": {
    "kernelspec": {
      "display_name": "Python 3",
      "language": "python",
      "name": "python3"
    },
    "language_info": {
      "codemirror_mode": {
        "name": "ipython",
        "version": 3
      },
      "file_extension": ".py",
      "mimetype": "text/x-python",
      "name": "python",
      "nbconvert_exporter": "python",
      "pygments_lexer": "ipython3",
      "version": "3.6.3"
    },
    "colab": {
      "provenance": []
    }
  },
  "nbformat": 4,
  "nbformat_minor": 0
}